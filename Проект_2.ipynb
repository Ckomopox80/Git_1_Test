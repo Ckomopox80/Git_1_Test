{
 "cells": [
  {
   "cell_type": "markdown",
   "id": "e33c3be1",
   "metadata": {},
   "source": [
    "<div style=\"border:solid green 2px; padding: 20px\">\n",
    "\n",
    "<b>Привет, Денис! Поздравляю с выполнением очередного проекта!!</b>\n",
    "\n",
    "Меня зовут Петр Раздобреев и я буду проверять твою работу. Попробую помочь сделать тебе её еще лучше! В Практикуме принято общени на ты, но если это дискомфортно, то сообщи об этом)\n",
    "\n",
    "Ниже ты найдешь мои комментарии - пожалуйста, не перемещай, не изменяй и не удаляй их. Я буду использовать цветовую разметку:\n",
    "\n",
    "<div class=\"alert alert-danger\">\n",
    "<b>Комментарий ревьюера:</b>☁️Так выделены самые важные замечания. Без их отработки проект не будет принят. </div>\n",
    "\n",
    "<div class=\"alert alert-warning\">\n",
    "<b>Комментарий ревьюера:</b>⛅️ Так выделены небольшие замечания.Такие замечания в проекте допустимы, это пространство для улучшений в будущем.\n",
    "</div>\n",
    "\n",
    "<div class=\"alert alert-success\">\n",
    "<b>Комментарий ревьюера:</b>☀️Так я выделяю успешные идеи.</div>\n",
    "\n",
    "Давай работать над проектом в диалоге: если ты что-то меняешь в проекте или отвечаешь на мои комменатри — пиши об этом. Мне будет легче отследить изменения, если ты выделишь свои комментарии:\n",
    "<div class=\"alert alert-info\"> <b>Комментарий студента:</b> Например, вот так.</div>\n",
    "\n",
    "Всё это поможет выполнить повторную проверку твоего проекта оперативнее. \n",
    "    "
   ]
  }
 ],
 "metadata": {
  "ExecuteTimeLog": [
   {
    "duration": 84,
    "start_time": "2024-02-20T16:32:46.062Z"
   },
   {
    "duration": 1612,
    "start_time": "2024-02-20T16:33:24.088Z"
   },
   {
    "duration": 76,
    "start_time": "2024-02-20T16:33:25.704Z"
   },
   {
    "duration": 13,
    "start_time": "2024-02-20T16:33:32.938Z"
   },
   {
    "duration": 3,
    "start_time": "2024-02-20T16:36:59.849Z"
   },
   {
    "duration": 4,
    "start_time": "2024-02-20T16:37:00.448Z"
   },
   {
    "duration": 28,
    "start_time": "2024-02-20T16:37:02.185Z"
   },
   {
    "duration": 29,
    "start_time": "2024-02-20T16:37:42.899Z"
   },
   {
    "duration": 17,
    "start_time": "2024-02-20T16:37:43.398Z"
   },
   {
    "duration": 3,
    "start_time": "2024-02-20T16:38:31.367Z"
   },
   {
    "duration": 5,
    "start_time": "2024-02-20T16:38:31.778Z"
   },
   {
    "duration": 28,
    "start_time": "2024-02-20T16:38:32.208Z"
   },
   {
    "duration": 111,
    "start_time": "2024-02-20T16:39:34.873Z"
   },
   {
    "duration": 9,
    "start_time": "2024-02-20T16:39:55.630Z"
   },
   {
    "duration": 4,
    "start_time": "2024-02-20T16:40:37.995Z"
   },
   {
    "duration": 4,
    "start_time": "2024-02-20T16:40:38.755Z"
   },
   {
    "duration": 302,
    "start_time": "2024-02-20T16:40:40.104Z"
   },
   {
    "duration": 29,
    "start_time": "2024-02-20T16:40:45.498Z"
   },
   {
    "duration": 13,
    "start_time": "2024-02-20T17:14:10.349Z"
   },
   {
    "duration": 10,
    "start_time": "2024-02-20T17:14:10.535Z"
   },
   {
    "duration": 271,
    "start_time": "2024-02-20T17:18:42.703Z"
   },
   {
    "duration": 225,
    "start_time": "2024-02-20T17:19:15.824Z"
   },
   {
    "duration": 12,
    "start_time": "2024-02-20T17:21:28.689Z"
   },
   {
    "duration": 27,
    "start_time": "2024-02-20T17:22:13.245Z"
   },
   {
    "duration": 28,
    "start_time": "2024-02-20T17:23:12.884Z"
   },
   {
    "duration": 30,
    "start_time": "2024-02-20T17:48:32.284Z"
   },
   {
    "duration": 27,
    "start_time": "2024-02-20T17:49:08.949Z"
   },
   {
    "duration": 3,
    "start_time": "2024-02-20T17:49:41.261Z"
   },
   {
    "duration": 4,
    "start_time": "2024-02-20T17:49:41.667Z"
   },
   {
    "duration": 28,
    "start_time": "2024-02-20T17:49:42.038Z"
   },
   {
    "duration": 29,
    "start_time": "2024-02-20T17:49:42.526Z"
   },
   {
    "duration": 225,
    "start_time": "2024-02-20T17:49:43.439Z"
   },
   {
    "duration": 4,
    "start_time": "2024-02-21T10:43:11.249Z"
   },
   {
    "duration": 3,
    "start_time": "2024-02-21T10:43:15.443Z"
   },
   {
    "duration": 6,
    "start_time": "2024-02-21T10:47:33.672Z"
   },
   {
    "duration": 19,
    "start_time": "2024-02-21T10:47:34.760Z"
   },
   {
    "duration": 29,
    "start_time": "2024-02-21T10:47:35.946Z"
   },
   {
    "duration": 25,
    "start_time": "2024-02-21T10:47:36.578Z"
   },
   {
    "duration": 241,
    "start_time": "2024-02-21T10:47:37.758Z"
   },
   {
    "duration": 189,
    "start_time": "2024-02-21T10:48:26.408Z"
   },
   {
    "duration": 356,
    "start_time": "2024-02-21T10:48:43.889Z"
   },
   {
    "duration": 179,
    "start_time": "2024-02-21T10:52:55.587Z"
   },
   {
    "duration": 1358,
    "start_time": "2024-02-21T11:03:57.352Z"
   },
   {
    "duration": 15,
    "start_time": "2024-02-21T11:03:58.711Z"
   },
   {
    "duration": 73,
    "start_time": "2024-02-21T11:03:58.727Z"
   },
   {
    "duration": 482,
    "start_time": "2024-02-21T11:03:58.802Z"
   },
   {
    "duration": 5,
    "start_time": "2024-02-21T11:04:36.556Z"
   },
   {
    "duration": 11,
    "start_time": "2024-02-21T11:04:36.943Z"
   },
   {
    "duration": 28,
    "start_time": "2024-02-21T11:04:37.759Z"
   },
   {
    "duration": 415,
    "start_time": "2024-02-21T11:04:38.252Z"
   },
   {
    "duration": 14,
    "start_time": "2024-02-21T11:05:46.151Z"
   },
   {
    "duration": 10,
    "start_time": "2024-02-21T11:05:46.638Z"
   },
   {
    "duration": 14,
    "start_time": "2024-02-21T11:05:57.889Z"
   },
   {
    "duration": 26,
    "start_time": "2024-02-21T11:05:58.820Z"
   },
   {
    "duration": 416,
    "start_time": "2024-02-21T11:05:59.424Z"
   },
   {
    "duration": 15,
    "start_time": "2024-02-21T11:07:49.776Z"
   },
   {
    "duration": 27,
    "start_time": "2024-02-21T11:07:50.288Z"
   },
   {
    "duration": 510,
    "start_time": "2024-02-21T11:07:50.575Z"
   },
   {
    "duration": 6,
    "start_time": "2024-02-21T11:07:52.524Z"
   },
   {
    "duration": 5,
    "start_time": "2024-02-21T11:08:26.335Z"
   },
   {
    "duration": 5,
    "start_time": "2024-02-21T11:08:40.753Z"
   },
   {
    "duration": 4,
    "start_time": "2024-02-21T11:08:50.284Z"
   },
   {
    "duration": 74,
    "start_time": "2024-02-21T11:14:13.209Z"
   },
   {
    "duration": 562,
    "start_time": "2024-02-21T11:14:13.667Z"
   },
   {
    "duration": 108,
    "start_time": "2024-02-21T11:14:32.326Z"
   },
   {
    "duration": 67,
    "start_time": "2024-02-21T11:14:38.202Z"
   },
   {
    "duration": 15,
    "start_time": "2024-02-21T11:14:38.685Z"
   },
   {
    "duration": 163,
    "start_time": "2024-02-21T11:15:40.386Z"
   },
   {
    "duration": 429,
    "start_time": "2024-02-21T11:16:35.103Z"
   },
   {
    "duration": 19,
    "start_time": "2024-02-21T11:16:46.691Z"
   },
   {
    "duration": 24,
    "start_time": "2024-02-21T11:17:04.245Z"
   },
   {
    "duration": 6,
    "start_time": "2024-02-21T11:18:48.634Z"
   },
   {
    "duration": 168,
    "start_time": "2024-02-21T11:20:45.087Z"
   },
   {
    "duration": 5,
    "start_time": "2024-02-21T11:22:29.402Z"
   },
   {
    "duration": 90,
    "start_time": "2024-02-21T11:24:08.135Z"
   },
   {
    "duration": 89,
    "start_time": "2024-02-21T11:25:26.983Z"
   },
   {
    "duration": 172,
    "start_time": "2024-02-21T11:25:28.266Z"
   },
   {
    "duration": 296,
    "start_time": "2024-02-21T12:05:16.827Z"
   },
   {
    "duration": 185,
    "start_time": "2024-02-21T12:05:42.816Z"
   },
   {
    "duration": 439,
    "start_time": "2024-02-21T12:08:54.456Z"
   },
   {
    "duration": 17,
    "start_time": "2024-02-21T12:19:55.791Z"
   },
   {
    "duration": 27,
    "start_time": "2024-02-21T12:19:56.715Z"
   },
   {
    "duration": 450,
    "start_time": "2024-02-21T12:19:57.001Z"
   },
   {
    "duration": 5,
    "start_time": "2024-02-21T12:19:57.665Z"
   },
   {
    "duration": 6,
    "start_time": "2024-02-21T12:19:59.419Z"
   },
   {
    "duration": 4,
    "start_time": "2024-02-21T12:20:00.188Z"
   },
   {
    "duration": 6,
    "start_time": "2024-02-21T12:20:00.640Z"
   },
   {
    "duration": 166,
    "start_time": "2024-02-21T12:20:00.865Z"
   },
   {
    "duration": 5,
    "start_time": "2024-02-21T12:20:01.311Z"
   },
   {
    "duration": 5,
    "start_time": "2024-02-21T12:20:01.583Z"
   },
   {
    "duration": 91,
    "start_time": "2024-02-21T12:20:01.810Z"
   },
   {
    "duration": 38,
    "start_time": "2024-02-21T12:20:03.483Z"
   },
   {
    "duration": 591,
    "start_time": "2024-02-21T12:20:03.710Z"
   },
   {
    "duration": 25,
    "start_time": "2024-02-21T12:20:04.671Z"
   },
   {
    "duration": 15,
    "start_time": "2024-02-21T12:20:04.925Z"
   },
   {
    "duration": 542,
    "start_time": "2024-02-21T12:20:30.537Z"
   },
   {
    "duration": 10,
    "start_time": "2024-02-21T12:20:45.093Z"
   },
   {
    "duration": 12,
    "start_time": "2024-02-21T12:21:02.847Z"
   },
   {
    "duration": 418,
    "start_time": "2024-02-21T12:21:30.162Z"
   },
   {
    "duration": 20,
    "start_time": "2024-02-21T12:21:52.154Z"
   },
   {
    "duration": 10,
    "start_time": "2024-02-21T12:22:08.097Z"
   },
   {
    "duration": 13,
    "start_time": "2024-02-21T12:22:09.625Z"
   },
   {
    "duration": 428,
    "start_time": "2024-02-21T12:22:11.499Z"
   },
   {
    "duration": 14,
    "start_time": "2024-02-21T12:22:57.144Z"
   },
   {
    "duration": 9,
    "start_time": "2024-02-21T12:25:24.927Z"
   },
   {
    "duration": 415,
    "start_time": "2024-02-21T12:25:28.493Z"
   },
   {
    "duration": 9,
    "start_time": "2024-02-21T12:25:56.674Z"
   },
   {
    "duration": 394,
    "start_time": "2024-02-21T12:25:58.086Z"
   },
   {
    "duration": 10,
    "start_time": "2024-02-21T12:28:26.796Z"
   },
   {
    "duration": 7,
    "start_time": "2024-02-21T12:29:13.323Z"
   },
   {
    "duration": 442,
    "start_time": "2024-02-21T12:30:04.967Z"
   },
   {
    "duration": 7,
    "start_time": "2024-02-21T12:31:08.084Z"
   },
   {
    "duration": 9,
    "start_time": "2024-02-21T12:32:37.544Z"
   },
   {
    "duration": 6,
    "start_time": "2024-02-21T12:34:45.291Z"
   },
   {
    "duration": 38,
    "start_time": "2024-02-21T12:38:44.431Z"
   },
   {
    "duration": 17,
    "start_time": "2024-02-21T12:38:44.851Z"
   },
   {
    "duration": 16,
    "start_time": "2024-02-21T12:38:47.607Z"
   },
   {
    "duration": 653,
    "start_time": "2024-02-21T12:38:52.763Z"
   },
   {
    "duration": 10,
    "start_time": "2024-02-21T12:39:13.861Z"
   },
   {
    "duration": 570,
    "start_time": "2024-02-21T12:39:15.194Z"
   },
   {
    "duration": 11,
    "start_time": "2024-02-21T12:40:10.094Z"
   },
   {
    "duration": 8,
    "start_time": "2024-02-21T12:42:07.142Z"
   },
   {
    "duration": 15,
    "start_time": "2024-02-21T12:43:30.118Z"
   },
   {
    "duration": 14,
    "start_time": "2024-02-21T12:43:50.178Z"
   },
   {
    "duration": 26,
    "start_time": "2024-02-21T12:43:50.828Z"
   },
   {
    "duration": 9,
    "start_time": "2024-02-21T12:43:51.047Z"
   },
   {
    "duration": 14,
    "start_time": "2024-02-21T12:43:51.285Z"
   },
   {
    "duration": 11,
    "start_time": "2024-02-21T12:43:51.510Z"
   },
   {
    "duration": 418,
    "start_time": "2024-02-21T12:43:51.712Z"
   },
   {
    "duration": 5,
    "start_time": "2024-02-21T12:43:52.131Z"
   },
   {
    "duration": 4,
    "start_time": "2024-02-21T12:43:52.808Z"
   },
   {
    "duration": 5,
    "start_time": "2024-02-21T12:43:53.458Z"
   },
   {
    "duration": 5,
    "start_time": "2024-02-21T12:43:53.900Z"
   },
   {
    "duration": 155,
    "start_time": "2024-02-21T12:43:54.120Z"
   },
   {
    "duration": 5,
    "start_time": "2024-02-21T12:43:54.571Z"
   },
   {
    "duration": 6,
    "start_time": "2024-02-21T12:43:54.767Z"
   },
   {
    "duration": 102,
    "start_time": "2024-02-21T12:43:54.984Z"
   },
   {
    "duration": 37,
    "start_time": "2024-02-21T12:43:56.612Z"
   },
   {
    "duration": 12,
    "start_time": "2024-02-21T12:43:56.841Z"
   },
   {
    "duration": 15,
    "start_time": "2024-02-21T12:43:57.075Z"
   },
   {
    "duration": 9,
    "start_time": "2024-02-21T12:43:57.322Z"
   },
   {
    "duration": 662,
    "start_time": "2024-02-21T12:43:57.578Z"
   },
   {
    "duration": 25,
    "start_time": "2024-02-21T12:43:58.461Z"
   },
   {
    "duration": 8,
    "start_time": "2024-02-21T12:46:59.326Z"
   },
   {
    "duration": 12,
    "start_time": "2024-02-21T12:47:01.545Z"
   },
   {
    "duration": 8,
    "start_time": "2024-02-21T12:47:18.348Z"
   },
   {
    "duration": 7,
    "start_time": "2024-02-21T12:47:32.760Z"
   },
   {
    "duration": 11,
    "start_time": "2024-02-21T12:47:37.452Z"
   },
   {
    "duration": 8,
    "start_time": "2024-02-21T12:48:07.132Z"
   },
   {
    "duration": 3,
    "start_time": "2024-02-21T12:52:18.807Z"
   },
   {
    "duration": 11,
    "start_time": "2024-02-21T13:00:50.334Z"
   },
   {
    "duration": 367,
    "start_time": "2024-02-21T13:01:37.324Z"
   },
   {
    "duration": 8,
    "start_time": "2024-02-21T13:01:55.204Z"
   },
   {
    "duration": 7,
    "start_time": "2024-02-21T13:02:20.140Z"
   },
   {
    "duration": 19,
    "start_time": "2024-02-21T13:02:40.655Z"
   },
   {
    "duration": 4,
    "start_time": "2024-02-21T13:02:40.849Z"
   },
   {
    "duration": 27,
    "start_time": "2024-02-21T13:02:41.502Z"
   },
   {
    "duration": 10,
    "start_time": "2024-02-21T13:02:41.711Z"
   },
   {
    "duration": 17,
    "start_time": "2024-02-21T13:02:41.908Z"
   },
   {
    "duration": 10,
    "start_time": "2024-02-21T13:02:42.137Z"
   },
   {
    "duration": 409,
    "start_time": "2024-02-21T13:02:42.327Z"
   },
   {
    "duration": 6,
    "start_time": "2024-02-21T13:02:42.772Z"
   },
   {
    "duration": 5,
    "start_time": "2024-02-21T13:02:43.422Z"
   },
   {
    "duration": 5,
    "start_time": "2024-02-21T13:02:44.058Z"
   },
   {
    "duration": 6,
    "start_time": "2024-02-21T13:02:44.490Z"
   },
   {
    "duration": 167,
    "start_time": "2024-02-21T13:02:44.709Z"
   },
   {
    "duration": 5,
    "start_time": "2024-02-21T13:02:45.150Z"
   },
   {
    "duration": 6,
    "start_time": "2024-02-21T13:02:45.357Z"
   },
   {
    "duration": 95,
    "start_time": "2024-02-21T13:02:45.590Z"
   },
   {
    "duration": 36,
    "start_time": "2024-02-21T13:02:46.464Z"
   },
   {
    "duration": 12,
    "start_time": "2024-02-21T13:02:46.686Z"
   },
   {
    "duration": 17,
    "start_time": "2024-02-21T13:02:46.900Z"
   },
   {
    "duration": 10,
    "start_time": "2024-02-21T13:02:47.120Z"
   },
   {
    "duration": 544,
    "start_time": "2024-02-21T13:02:47.335Z"
   },
   {
    "duration": 20,
    "start_time": "2024-02-21T13:07:45.318Z"
   },
   {
    "duration": 7,
    "start_time": "2024-02-21T13:08:21.532Z"
   },
   {
    "duration": 11,
    "start_time": "2024-02-21T13:08:40.222Z"
   },
   {
    "duration": 11,
    "start_time": "2024-02-21T13:08:56.578Z"
   },
   {
    "duration": 10,
    "start_time": "2024-02-21T13:09:23.169Z"
   },
   {
    "duration": 8,
    "start_time": "2024-02-21T13:10:53.577Z"
   },
   {
    "duration": 7,
    "start_time": "2024-02-21T13:10:54.477Z"
   },
   {
    "duration": 8,
    "start_time": "2024-02-21T13:10:55.258Z"
   },
   {
    "duration": 8,
    "start_time": "2024-02-21T13:11:37.064Z"
   },
   {
    "duration": 11,
    "start_time": "2024-02-21T13:11:54.854Z"
   },
   {
    "duration": 9,
    "start_time": "2024-02-21T13:12:21.731Z"
   },
   {
    "duration": 7,
    "start_time": "2024-02-21T13:13:22.890Z"
   },
   {
    "duration": 8,
    "start_time": "2024-02-21T13:13:23.268Z"
   },
   {
    "duration": 13,
    "start_time": "2024-02-21T13:13:23.587Z"
   },
   {
    "duration": 10,
    "start_time": "2024-02-21T13:13:23.943Z"
   },
   {
    "duration": 7,
    "start_time": "2024-02-21T13:13:24.325Z"
   },
   {
    "duration": 10,
    "start_time": "2024-02-21T13:13:25.404Z"
   },
   {
    "duration": 9,
    "start_time": "2024-02-21T13:15:35.213Z"
   },
   {
    "duration": 6,
    "start_time": "2024-02-21T13:15:58.353Z"
   },
   {
    "duration": 8,
    "start_time": "2024-02-21T13:16:12.184Z"
   },
   {
    "duration": 18,
    "start_time": "2024-02-21T13:16:55.309Z"
   },
   {
    "duration": 352,
    "start_time": "2024-02-21T13:20:17.734Z"
   },
   {
    "duration": 382,
    "start_time": "2024-02-21T13:25:06.685Z"
   },
   {
    "duration": 17,
    "start_time": "2024-02-21T13:29:34.471Z"
   },
   {
    "duration": 14,
    "start_time": "2024-02-21T13:29:49.678Z"
   },
   {
    "duration": 14,
    "start_time": "2024-02-21T13:30:28.864Z"
   },
   {
    "duration": 3,
    "start_time": "2024-02-21T13:30:30.177Z"
   },
   {
    "duration": 10,
    "start_time": "2024-02-21T13:30:38.670Z"
   },
   {
    "duration": 10,
    "start_time": "2024-02-21T13:35:16.454Z"
   },
   {
    "duration": 9,
    "start_time": "2024-02-21T13:36:05.808Z"
   },
   {
    "duration": 5,
    "start_time": "2024-02-21T13:36:20.899Z"
   },
   {
    "duration": 9,
    "start_time": "2024-02-21T13:36:21.601Z"
   },
   {
    "duration": 1300,
    "start_time": "2024-02-21T13:41:02.774Z"
   },
   {
    "duration": 2,
    "start_time": "2024-02-21T13:41:04.077Z"
   },
   {
    "duration": 40,
    "start_time": "2024-02-21T13:41:04.081Z"
   },
   {
    "duration": 10,
    "start_time": "2024-02-21T13:41:04.122Z"
   },
   {
    "duration": 25,
    "start_time": "2024-02-21T13:41:04.135Z"
   },
   {
    "duration": 10,
    "start_time": "2024-02-21T13:41:04.162Z"
   },
   {
    "duration": 447,
    "start_time": "2024-02-21T13:41:04.174Z"
   },
   {
    "duration": 6,
    "start_time": "2024-02-21T13:41:04.623Z"
   },
   {
    "duration": 19,
    "start_time": "2024-02-21T13:41:04.631Z"
   },
   {
    "duration": 10,
    "start_time": "2024-02-21T13:41:04.652Z"
   },
   {
    "duration": 15,
    "start_time": "2024-02-21T13:41:04.663Z"
   },
   {
    "duration": 163,
    "start_time": "2024-02-21T13:41:04.680Z"
   },
   {
    "duration": 4,
    "start_time": "2024-02-21T13:41:04.845Z"
   },
   {
    "duration": 6,
    "start_time": "2024-02-21T13:41:04.854Z"
   },
   {
    "duration": 114,
    "start_time": "2024-02-21T13:41:04.861Z"
   },
   {
    "duration": 28,
    "start_time": "2024-02-21T13:41:04.976Z"
   },
   {
    "duration": 18,
    "start_time": "2024-02-21T13:41:05.006Z"
   },
   {
    "duration": 28,
    "start_time": "2024-02-21T13:41:05.026Z"
   },
   {
    "duration": 9,
    "start_time": "2024-02-21T13:41:05.056Z"
   },
   {
    "duration": 545,
    "start_time": "2024-02-21T13:41:05.067Z"
   },
   {
    "duration": 24,
    "start_time": "2024-02-21T13:41:05.614Z"
   },
   {
    "duration": 9,
    "start_time": "2024-02-21T13:41:05.640Z"
   },
   {
    "duration": 15,
    "start_time": "2024-02-21T13:41:05.651Z"
   },
   {
    "duration": 8,
    "start_time": "2024-02-21T13:41:05.668Z"
   },
   {
    "duration": 10,
    "start_time": "2024-02-21T13:41:05.678Z"
   },
   {
    "duration": 32,
    "start_time": "2024-02-21T13:41:05.689Z"
   },
   {
    "duration": 10,
    "start_time": "2024-02-21T13:41:05.723Z"
   },
   {
    "duration": 11,
    "start_time": "2024-02-21T13:41:05.735Z"
   },
   {
    "duration": 23,
    "start_time": "2024-02-21T13:41:05.747Z"
   },
   {
    "duration": 8,
    "start_time": "2024-02-21T13:41:05.772Z"
   },
   {
    "duration": 101,
    "start_time": "2024-02-21T13:41:05.781Z"
   },
   {
    "duration": 24,
    "start_time": "2024-02-21T13:41:05.886Z"
   },
   {
    "duration": 5,
    "start_time": "2024-02-21T13:41:05.912Z"
   },
   {
    "duration": 15,
    "start_time": "2024-02-21T13:41:05.919Z"
   },
   {
    "duration": 43,
    "start_time": "2024-02-21T13:41:05.935Z"
   },
   {
    "duration": 6,
    "start_time": "2024-02-21T13:41:05.979Z"
   },
   {
    "duration": 337,
    "start_time": "2024-02-21T13:41:05.986Z"
   },
   {
    "duration": 15,
    "start_time": "2024-02-21T13:41:06.325Z"
   },
   {
    "duration": 18,
    "start_time": "2024-02-21T13:41:06.341Z"
   },
   {
    "duration": 158,
    "start_time": "2024-02-21T13:57:31.135Z"
   },
   {
    "duration": 95,
    "start_time": "2024-02-21T13:57:55.086Z"
   },
   {
    "duration": 4,
    "start_time": "2024-02-21T14:01:26.990Z"
   },
   {
    "duration": 4,
    "start_time": "2024-02-21T14:03:50.094Z"
   },
   {
    "duration": 4,
    "start_time": "2024-02-21T14:03:51.661Z"
   },
   {
    "duration": 4,
    "start_time": "2024-02-21T14:03:53.433Z"
   },
   {
    "duration": 167,
    "start_time": "2024-02-21T14:03:55.514Z"
   },
   {
    "duration": 313,
    "start_time": "2024-02-21T14:04:52.328Z"
   },
   {
    "duration": 223,
    "start_time": "2024-02-21T14:05:40.212Z"
   },
   {
    "duration": 216,
    "start_time": "2024-02-21T14:05:49.978Z"
   },
   {
    "duration": 350,
    "start_time": "2024-02-21T14:06:01.510Z"
   },
   {
    "duration": 220,
    "start_time": "2024-02-21T14:06:23.692Z"
   },
   {
    "duration": 221,
    "start_time": "2024-02-21T14:14:30.682Z"
   },
   {
    "duration": 205,
    "start_time": "2024-02-21T14:15:27.851Z"
   },
   {
    "duration": 257,
    "start_time": "2024-02-21T14:18:22.953Z"
   },
   {
    "duration": 118,
    "start_time": "2024-02-21T14:19:03.317Z"
   },
   {
    "duration": 7,
    "start_time": "2024-02-21T14:19:23.517Z"
   },
   {
    "duration": 6,
    "start_time": "2024-02-21T14:19:57.733Z"
   },
   {
    "duration": 165,
    "start_time": "2024-02-21T14:20:23.699Z"
   },
   {
    "duration": 10,
    "start_time": "2024-02-21T14:30:48.610Z"
   },
   {
    "duration": 9,
    "start_time": "2024-02-21T14:36:13.978Z"
   },
   {
    "duration": 8,
    "start_time": "2024-02-21T14:36:36.258Z"
   },
   {
    "duration": 8,
    "start_time": "2024-02-21T14:37:43.133Z"
   },
   {
    "duration": 342,
    "start_time": "2024-02-21T14:38:12.414Z"
   },
   {
    "duration": 11,
    "start_time": "2024-02-21T14:39:56.137Z"
   },
   {
    "duration": 254,
    "start_time": "2024-02-21T14:40:09.456Z"
   },
   {
    "duration": 446,
    "start_time": "2024-02-21T14:41:22.089Z"
   },
   {
    "duration": 9,
    "start_time": "2024-02-21T14:41:32.176Z"
   },
   {
    "duration": 11,
    "start_time": "2024-02-21T14:41:58.720Z"
   },
   {
    "duration": 16,
    "start_time": "2024-02-21T14:42:43.216Z"
   },
   {
    "duration": 17,
    "start_time": "2024-02-21T14:43:05.918Z"
   },
   {
    "duration": 217,
    "start_time": "2024-02-21T14:43:20.691Z"
   },
   {
    "duration": 10,
    "start_time": "2024-02-21T14:58:09.250Z"
   },
   {
    "duration": 12,
    "start_time": "2024-02-21T14:58:09.921Z"
   },
   {
    "duration": 8,
    "start_time": "2024-02-21T14:58:10.306Z"
   },
   {
    "duration": 17,
    "start_time": "2024-02-21T14:58:36.303Z"
   },
   {
    "duration": 14,
    "start_time": "2024-02-21T14:58:51.447Z"
   },
   {
    "duration": 10,
    "start_time": "2024-02-21T15:03:56.354Z"
   },
   {
    "duration": 10,
    "start_time": "2024-02-21T15:10:31.178Z"
   },
   {
    "duration": 9,
    "start_time": "2024-02-21T15:10:52.411Z"
   },
   {
    "duration": 12,
    "start_time": "2024-02-21T15:11:40.410Z"
   },
   {
    "duration": 8,
    "start_time": "2024-02-21T15:11:43.975Z"
   },
   {
    "duration": 12,
    "start_time": "2024-02-21T15:11:44.495Z"
   },
   {
    "duration": 5,
    "start_time": "2024-02-21T15:12:48.225Z"
   },
   {
    "duration": 12,
    "start_time": "2024-02-21T15:12:48.905Z"
   },
   {
    "duration": 5,
    "start_time": "2024-02-21T15:12:50.296Z"
   },
   {
    "duration": 12,
    "start_time": "2024-02-21T15:12:50.852Z"
   },
   {
    "duration": 8,
    "start_time": "2024-02-21T15:16:25.049Z"
   },
   {
    "duration": 11,
    "start_time": "2024-02-21T15:16:26.718Z"
   },
   {
    "duration": 14,
    "start_time": "2024-02-21T15:16:43.804Z"
   },
   {
    "duration": 13,
    "start_time": "2024-02-21T15:16:55.539Z"
   },
   {
    "duration": 12,
    "start_time": "2024-02-21T15:17:17.168Z"
   },
   {
    "duration": 14,
    "start_time": "2024-02-21T15:17:28.622Z"
   },
   {
    "duration": 47,
    "start_time": "2024-02-21T15:17:57.301Z"
   },
   {
    "duration": 8,
    "start_time": "2024-02-21T15:18:31.807Z"
   },
   {
    "duration": 7,
    "start_time": "2024-02-21T15:18:37.336Z"
   },
   {
    "duration": 13,
    "start_time": "2024-02-21T15:18:51.063Z"
   },
   {
    "duration": 251,
    "start_time": "2024-02-21T15:19:07.522Z"
   },
   {
    "duration": 396,
    "start_time": "2024-02-21T15:24:02.254Z"
   },
   {
    "duration": 212,
    "start_time": "2024-02-21T15:25:06.250Z"
   },
   {
    "duration": 302,
    "start_time": "2024-02-21T15:34:06.533Z"
   },
   {
    "duration": 652,
    "start_time": "2024-02-21T15:34:43.719Z"
   },
   {
    "duration": 480,
    "start_time": "2024-02-21T15:35:43.543Z"
   },
   {
    "duration": 298,
    "start_time": "2024-02-21T15:36:08.354Z"
   },
   {
    "duration": 69,
    "start_time": "2024-02-21T16:27:52.360Z"
   },
   {
    "duration": 16,
    "start_time": "2024-02-21T16:31:47.419Z"
   },
   {
    "duration": 6,
    "start_time": "2024-02-21T16:49:35.830Z"
   },
   {
    "duration": 11,
    "start_time": "2024-02-21T16:49:37.227Z"
   },
   {
    "duration": 5,
    "start_time": "2024-02-21T16:52:52.399Z"
   },
   {
    "duration": 13,
    "start_time": "2024-02-21T16:54:46.950Z"
   },
   {
    "duration": 10,
    "start_time": "2024-02-21T16:56:55.410Z"
   },
   {
    "duration": 5,
    "start_time": "2024-02-21T17:00:26.913Z"
   },
   {
    "duration": 8,
    "start_time": "2024-02-21T17:01:57.616Z"
   },
   {
    "duration": 11,
    "start_time": "2024-02-21T17:04:17.063Z"
   },
   {
    "duration": 15,
    "start_time": "2024-02-21T17:44:25.192Z"
   },
   {
    "duration": 7,
    "start_time": "2024-02-21T17:46:01.468Z"
   },
   {
    "duration": 17,
    "start_time": "2024-02-21T17:46:48.722Z"
   },
   {
    "duration": 1046,
    "start_time": "2024-02-21T17:49:46.875Z"
   },
   {
    "duration": 11,
    "start_time": "2024-02-21T17:53:57.764Z"
   },
   {
    "duration": 12,
    "start_time": "2024-02-21T19:25:51.291Z"
   },
   {
    "duration": 10,
    "start_time": "2024-02-21T19:27:52.579Z"
   },
   {
    "duration": 13,
    "start_time": "2024-02-21T19:29:18.884Z"
   },
   {
    "duration": 1215,
    "start_time": "2024-02-21T19:29:59.143Z"
   },
   {
    "duration": 13,
    "start_time": "2024-02-21T19:30:27.683Z"
   },
   {
    "duration": 11,
    "start_time": "2024-02-21T19:32:45.552Z"
   },
   {
    "duration": 10,
    "start_time": "2024-02-21T19:33:01.287Z"
   },
   {
    "duration": 30,
    "start_time": "2024-02-21T19:36:42.095Z"
   },
   {
    "duration": 32,
    "start_time": "2024-02-21T19:40:10.680Z"
   },
   {
    "duration": 11,
    "start_time": "2024-02-21T19:42:28.609Z"
   },
   {
    "duration": 9,
    "start_time": "2024-02-21T19:43:50.022Z"
   },
   {
    "duration": 30,
    "start_time": "2024-02-21T19:44:56.226Z"
   },
   {
    "duration": 11,
    "start_time": "2024-02-21T19:45:06.107Z"
   },
   {
    "duration": 69,
    "start_time": "2024-02-21T19:45:45.105Z"
   },
   {
    "duration": 65,
    "start_time": "2024-02-21T19:45:58.731Z"
   },
   {
    "duration": 75,
    "start_time": "2024-02-21T19:46:10.309Z"
   },
   {
    "duration": 11,
    "start_time": "2024-02-21T19:53:46.045Z"
   },
   {
    "duration": 10,
    "start_time": "2024-02-21T19:55:47.004Z"
   },
   {
    "duration": 32,
    "start_time": "2024-02-21T19:57:32.160Z"
   },
   {
    "duration": 44,
    "start_time": "2024-02-21T19:59:36.871Z"
   },
   {
    "duration": 40,
    "start_time": "2024-02-21T19:59:49.817Z"
   },
   {
    "duration": 46,
    "start_time": "2024-02-21T20:02:46.884Z"
   },
   {
    "duration": 38,
    "start_time": "2024-02-21T20:04:04.911Z"
   },
   {
    "duration": 1181,
    "start_time": "2024-02-21T20:04:07.960Z"
   },
   {
    "duration": 23,
    "start_time": "2024-02-21T20:05:13.500Z"
   },
   {
    "duration": 37,
    "start_time": "2024-02-21T20:05:38.320Z"
   },
   {
    "duration": 1154,
    "start_time": "2024-02-21T20:05:46.641Z"
   },
   {
    "duration": 25,
    "start_time": "2024-02-21T20:05:47.809Z"
   },
   {
    "duration": 1347,
    "start_time": "2024-02-21T20:07:21.752Z"
   },
   {
    "duration": 1215,
    "start_time": "2024-02-21T20:07:48.753Z"
   },
   {
    "duration": 1123,
    "start_time": "2024-02-21T20:08:35.452Z"
   },
   {
    "duration": 1186,
    "start_time": "2024-02-21T20:09:11.995Z"
   },
   {
    "duration": 1090,
    "start_time": "2024-02-21T20:09:54.177Z"
   },
   {
    "duration": 17,
    "start_time": "2024-02-21T20:10:34.066Z"
   },
   {
    "duration": 17,
    "start_time": "2024-02-21T20:10:46.450Z"
   },
   {
    "duration": 7,
    "start_time": "2024-02-21T20:10:47.585Z"
   },
   {
    "duration": 977,
    "start_time": "2024-02-21T20:10:47.799Z"
   },
   {
    "duration": 6,
    "start_time": "2024-02-21T20:10:48.778Z"
   },
   {
    "duration": 46,
    "start_time": "2024-02-21T20:11:06.291Z"
   },
   {
    "duration": 1113,
    "start_time": "2024-02-21T20:11:08.948Z"
   },
   {
    "duration": 39,
    "start_time": "2024-02-21T20:14:11.260Z"
   },
   {
    "duration": 36,
    "start_time": "2024-02-21T20:14:21.978Z"
   },
   {
    "duration": 19,
    "start_time": "2024-02-21T20:15:33.491Z"
   },
   {
    "duration": 1369,
    "start_time": "2024-02-21T20:17:52.022Z"
   },
   {
    "duration": 12,
    "start_time": "2024-02-21T20:17:53.393Z"
   },
   {
    "duration": 39,
    "start_time": "2024-02-21T20:17:53.406Z"
   },
   {
    "duration": 10,
    "start_time": "2024-02-21T20:17:53.447Z"
   },
   {
    "duration": 22,
    "start_time": "2024-02-21T20:17:53.460Z"
   },
   {
    "duration": 13,
    "start_time": "2024-02-21T20:17:53.485Z"
   },
   {
    "duration": 445,
    "start_time": "2024-02-21T20:17:53.500Z"
   },
   {
    "duration": 5,
    "start_time": "2024-02-21T20:17:53.946Z"
   },
   {
    "duration": 11,
    "start_time": "2024-02-21T20:17:53.953Z"
   },
   {
    "duration": 4,
    "start_time": "2024-02-21T20:17:53.967Z"
   },
   {
    "duration": 6,
    "start_time": "2024-02-21T20:17:53.972Z"
   },
   {
    "duration": 5,
    "start_time": "2024-02-21T20:17:53.980Z"
   },
   {
    "duration": 37,
    "start_time": "2024-02-21T20:17:53.987Z"
   },
   {
    "duration": 32,
    "start_time": "2024-02-21T20:17:54.026Z"
   },
   {
    "duration": 13,
    "start_time": "2024-02-21T20:17:54.059Z"
   },
   {
    "duration": 26,
    "start_time": "2024-02-21T20:17:54.074Z"
   },
   {
    "duration": 26,
    "start_time": "2024-02-21T20:17:54.102Z"
   },
   {
    "duration": 548,
    "start_time": "2024-02-21T20:17:54.130Z"
   },
   {
    "duration": 25,
    "start_time": "2024-02-21T20:17:54.680Z"
   },
   {
    "duration": 19,
    "start_time": "2024-02-21T20:17:54.706Z"
   },
   {
    "duration": 14,
    "start_time": "2024-02-21T20:17:54.727Z"
   },
   {
    "duration": 6,
    "start_time": "2024-02-21T20:17:54.742Z"
   },
   {
    "duration": 18,
    "start_time": "2024-02-21T20:17:54.749Z"
   },
   {
    "duration": 9,
    "start_time": "2024-02-21T20:17:54.768Z"
   },
   {
    "duration": 10,
    "start_time": "2024-02-21T20:17:54.779Z"
   },
   {
    "duration": 15,
    "start_time": "2024-02-21T20:17:54.791Z"
   },
   {
    "duration": 19,
    "start_time": "2024-02-21T20:17:54.808Z"
   },
   {
    "duration": 6,
    "start_time": "2024-02-21T20:17:54.832Z"
   },
   {
    "duration": 9,
    "start_time": "2024-02-21T20:17:54.840Z"
   },
   {
    "duration": 11,
    "start_time": "2024-02-21T20:17:54.851Z"
   },
   {
    "duration": 14,
    "start_time": "2024-02-21T20:17:54.863Z"
   },
   {
    "duration": 8,
    "start_time": "2024-02-21T20:17:54.879Z"
   },
   {
    "duration": 51,
    "start_time": "2024-02-21T20:17:54.889Z"
   },
   {
    "duration": 5,
    "start_time": "2024-02-21T20:17:54.942Z"
   },
   {
    "duration": 355,
    "start_time": "2024-02-21T20:17:54.948Z"
   },
   {
    "duration": 27,
    "start_time": "2024-02-21T20:17:55.305Z"
   },
   {
    "duration": 13,
    "start_time": "2024-02-21T20:17:55.333Z"
   },
   {
    "duration": 6,
    "start_time": "2024-02-21T20:17:55.347Z"
   },
   {
    "duration": 8,
    "start_time": "2024-02-21T20:17:55.354Z"
   },
   {
    "duration": 8,
    "start_time": "2024-02-21T20:17:55.364Z"
   },
   {
    "duration": 409,
    "start_time": "2024-02-21T20:17:55.374Z"
   },
   {
    "duration": 165,
    "start_time": "2024-02-21T20:17:55.785Z"
   },
   {
    "duration": 211,
    "start_time": "2024-02-21T20:17:55.952Z"
   },
   {
    "duration": 101,
    "start_time": "2024-02-21T20:17:56.165Z"
   },
   {
    "duration": 256,
    "start_time": "2024-02-21T20:17:56.268Z"
   },
   {
    "duration": 6,
    "start_time": "2024-02-21T20:17:56.525Z"
   },
   {
    "duration": 9,
    "start_time": "2024-02-21T20:17:56.532Z"
   },
   {
    "duration": 9,
    "start_time": "2024-02-21T20:17:56.543Z"
   },
   {
    "duration": 10,
    "start_time": "2024-02-21T20:17:56.553Z"
   },
   {
    "duration": 340,
    "start_time": "2024-02-21T20:17:56.564Z"
   },
   {
    "duration": 340,
    "start_time": "2024-02-21T20:17:56.906Z"
   },
   {
    "duration": 60,
    "start_time": "2024-02-21T20:17:57.248Z"
   },
   {
    "duration": 0,
    "start_time": "2024-02-21T20:17:57.310Z"
   },
   {
    "duration": 0,
    "start_time": "2024-02-21T20:17:57.311Z"
   },
   {
    "duration": 0,
    "start_time": "2024-02-21T20:17:57.313Z"
   },
   {
    "duration": 0,
    "start_time": "2024-02-21T20:17:57.313Z"
   },
   {
    "duration": 0,
    "start_time": "2024-02-21T20:17:57.314Z"
   },
   {
    "duration": 0,
    "start_time": "2024-02-21T20:17:57.315Z"
   },
   {
    "duration": 0,
    "start_time": "2024-02-21T20:17:57.317Z"
   },
   {
    "duration": 0,
    "start_time": "2024-02-21T20:17:57.318Z"
   },
   {
    "duration": 0,
    "start_time": "2024-02-21T20:17:57.319Z"
   },
   {
    "duration": 0,
    "start_time": "2024-02-21T20:17:57.320Z"
   },
   {
    "duration": 0,
    "start_time": "2024-02-21T20:17:57.321Z"
   },
   {
    "duration": 0,
    "start_time": "2024-02-21T20:17:57.322Z"
   },
   {
    "duration": 0,
    "start_time": "2024-02-21T20:17:57.323Z"
   },
   {
    "duration": 0,
    "start_time": "2024-02-21T20:17:57.324Z"
   },
   {
    "duration": 0,
    "start_time": "2024-02-21T20:17:57.325Z"
   },
   {
    "duration": 0,
    "start_time": "2024-02-21T20:17:57.326Z"
   },
   {
    "duration": 0,
    "start_time": "2024-02-21T20:17:57.327Z"
   },
   {
    "duration": 0,
    "start_time": "2024-02-21T20:17:57.328Z"
   },
   {
    "duration": 0,
    "start_time": "2024-02-21T20:17:57.329Z"
   },
   {
    "duration": 0,
    "start_time": "2024-02-21T20:17:57.331Z"
   },
   {
    "duration": 0,
    "start_time": "2024-02-21T20:17:57.332Z"
   },
   {
    "duration": 0,
    "start_time": "2024-02-21T20:17:57.333Z"
   },
   {
    "duration": 0,
    "start_time": "2024-02-21T20:17:57.334Z"
   },
   {
    "duration": 0,
    "start_time": "2024-02-21T20:17:57.335Z"
   },
   {
    "duration": 0,
    "start_time": "2024-02-21T20:17:57.336Z"
   },
   {
    "duration": 0,
    "start_time": "2024-02-21T20:17:57.337Z"
   },
   {
    "duration": 0,
    "start_time": "2024-02-21T20:17:57.338Z"
   },
   {
    "duration": 0,
    "start_time": "2024-02-21T20:17:57.338Z"
   },
   {
    "duration": 0,
    "start_time": "2024-02-21T20:17:57.339Z"
   },
   {
    "duration": 0,
    "start_time": "2024-02-21T20:17:57.340Z"
   },
   {
    "duration": 0,
    "start_time": "2024-02-21T20:17:57.341Z"
   },
   {
    "duration": 5,
    "start_time": "2024-02-21T20:18:19.468Z"
   },
   {
    "duration": 15,
    "start_time": "2024-02-21T20:18:20.755Z"
   },
   {
    "duration": 27,
    "start_time": "2024-02-21T20:18:24.706Z"
   },
   {
    "duration": 9,
    "start_time": "2024-02-21T20:18:25.589Z"
   },
   {
    "duration": 14,
    "start_time": "2024-02-21T20:18:26.088Z"
   },
   {
    "duration": 10,
    "start_time": "2024-02-21T20:18:26.563Z"
   },
   {
    "duration": 432,
    "start_time": "2024-02-21T20:18:27.468Z"
   },
   {
    "duration": 6,
    "start_time": "2024-02-21T20:18:29.058Z"
   },
   {
    "duration": 5,
    "start_time": "2024-02-21T20:18:31.966Z"
   },
   {
    "duration": 4,
    "start_time": "2024-02-21T20:18:34.127Z"
   },
   {
    "duration": 8,
    "start_time": "2024-02-21T20:18:35.268Z"
   },
   {
    "duration": 4,
    "start_time": "2024-02-21T20:18:36.470Z"
   },
   {
    "duration": 6,
    "start_time": "2024-02-21T20:18:37.016Z"
   },
   {
    "duration": 39,
    "start_time": "2024-02-21T20:18:39.170Z"
   },
   {
    "duration": 14,
    "start_time": "2024-02-21T20:18:39.661Z"
   },
   {
    "duration": 20,
    "start_time": "2024-02-21T20:18:40.018Z"
   },
   {
    "duration": 10,
    "start_time": "2024-02-21T20:18:40.822Z"
   },
   {
    "duration": 538,
    "start_time": "2024-02-21T20:18:42.983Z"
   },
   {
    "duration": 25,
    "start_time": "2024-02-21T20:18:46.487Z"
   },
   {
    "duration": 10,
    "start_time": "2024-02-21T20:18:47.297Z"
   },
   {
    "duration": 7,
    "start_time": "2024-02-21T20:18:48.073Z"
   },
   {
    "duration": 5,
    "start_time": "2024-02-21T20:18:51.190Z"
   },
   {
    "duration": 9,
    "start_time": "2024-02-21T20:18:51.995Z"
   },
   {
    "duration": 7,
    "start_time": "2024-02-21T20:18:53.507Z"
   },
   {
    "duration": 10,
    "start_time": "2024-02-21T20:18:54.191Z"
   },
   {
    "duration": 7,
    "start_time": "2024-02-21T20:18:54.938Z"
   },
   {
    "duration": 8,
    "start_time": "2024-02-21T20:18:55.978Z"
   },
   {
    "duration": 5,
    "start_time": "2024-02-21T20:19:17.736Z"
   },
   {
    "duration": 12,
    "start_time": "2024-02-21T20:19:19.747Z"
   },
   {
    "duration": 9,
    "start_time": "2024-02-21T20:19:22.838Z"
   },
   {
    "duration": 6,
    "start_time": "2024-02-21T20:19:23.485Z"
   },
   {
    "duration": 7,
    "start_time": "2024-02-21T20:19:24.271Z"
   },
   {
    "duration": 17,
    "start_time": "2024-02-21T20:19:25.112Z"
   },
   {
    "duration": 6,
    "start_time": "2024-02-21T20:19:30.206Z"
   },
   {
    "duration": 265,
    "start_time": "2024-02-21T20:19:30.868Z"
   },
   {
    "duration": 16,
    "start_time": "2024-02-21T20:19:31.874Z"
   },
   {
    "duration": 10,
    "start_time": "2024-02-21T20:19:32.613Z"
   },
   {
    "duration": 4,
    "start_time": "2024-02-21T20:19:49.189Z"
   },
   {
    "duration": 4,
    "start_time": "2024-02-21T20:19:50.197Z"
   },
   {
    "duration": 4,
    "start_time": "2024-02-21T20:19:50.795Z"
   },
   {
    "duration": 211,
    "start_time": "2024-02-21T20:19:51.520Z"
   },
   {
    "duration": 153,
    "start_time": "2024-02-21T20:19:52.249Z"
   },
   {
    "duration": 201,
    "start_time": "2024-02-21T20:19:54.460Z"
   },
   {
    "duration": 88,
    "start_time": "2024-02-21T20:19:55.078Z"
   },
   {
    "duration": 336,
    "start_time": "2024-02-21T20:19:56.723Z"
   },
   {
    "duration": 5,
    "start_time": "2024-02-21T20:19:57.591Z"
   },
   {
    "duration": 6,
    "start_time": "2024-02-21T20:19:58.440Z"
   },
   {
    "duration": 8,
    "start_time": "2024-02-21T20:20:01.335Z"
   },
   {
    "duration": 7,
    "start_time": "2024-02-21T20:20:02.781Z"
   },
   {
    "duration": 311,
    "start_time": "2024-02-21T20:20:03.432Z"
   },
   {
    "duration": 196,
    "start_time": "2024-02-21T20:20:04.262Z"
   },
   {
    "duration": 81,
    "start_time": "2024-02-21T20:20:05.923Z"
   },
   {
    "duration": 7,
    "start_time": "2024-02-21T20:20:09.053Z"
   },
   {
    "duration": 7,
    "start_time": "2024-02-21T20:20:11.168Z"
   },
   {
    "duration": 73,
    "start_time": "2024-02-21T20:20:11.786Z"
   },
   {
    "duration": 14,
    "start_time": "2024-02-21T20:20:12.909Z"
   },
   {
    "duration": 183,
    "start_time": "2024-02-21T20:20:13.593Z"
   },
   {
    "duration": 17,
    "start_time": "2024-02-21T20:20:29.440Z"
   },
   {
    "duration": 207,
    "start_time": "2024-02-21T20:20:30.578Z"
   },
   {
    "duration": 298,
    "start_time": "2024-02-21T20:20:31.485Z"
   },
   {
    "duration": 17,
    "start_time": "2024-02-21T20:20:36.734Z"
   },
   {
    "duration": 8,
    "start_time": "2024-02-21T20:20:37.430Z"
   },
   {
    "duration": 6,
    "start_time": "2024-02-21T20:20:40.203Z"
   },
   {
    "duration": 5,
    "start_time": "2024-02-21T20:20:52.771Z"
   },
   {
    "duration": 8,
    "start_time": "2024-02-21T20:20:53.290Z"
   },
   {
    "duration": 11,
    "start_time": "2024-02-21T20:20:53.926Z"
   },
   {
    "duration": 4,
    "start_time": "2024-02-21T20:20:54.957Z"
   },
   {
    "duration": 9,
    "start_time": "2024-02-21T20:20:55.508Z"
   },
   {
    "duration": 10,
    "start_time": "2024-02-21T20:20:56.056Z"
   },
   {
    "duration": 6,
    "start_time": "2024-02-21T20:21:00.474Z"
   },
   {
    "duration": 7,
    "start_time": "2024-02-21T20:21:01.598Z"
   },
   {
    "duration": 43,
    "start_time": "2024-02-21T20:21:02.075Z"
   },
   {
    "duration": 107,
    "start_time": "2024-02-21T20:21:07.067Z"
   },
   {
    "duration": 215,
    "start_time": "2024-02-21T20:21:08.408Z"
   },
   {
    "duration": 10,
    "start_time": "2024-02-21T20:21:10.091Z"
   },
   {
    "duration": 9,
    "start_time": "2024-02-21T20:21:12.086Z"
   },
   {
    "duration": 215,
    "start_time": "2024-02-21T20:21:13.702Z"
   },
   {
    "duration": 23,
    "start_time": "2024-02-21T20:21:17.789Z"
   },
   {
    "duration": 1260,
    "start_time": "2024-02-21T20:21:20.383Z"
   },
   {
    "duration": 0,
    "start_time": "2024-02-21T20:21:21.645Z"
   },
   {
    "duration": 6,
    "start_time": "2024-02-21T20:21:23.618Z"
   },
   {
    "duration": 16,
    "start_time": "2024-02-21T20:21:24.145Z"
   },
   {
    "duration": 6,
    "start_time": "2024-02-21T20:21:26.240Z"
   },
   {
    "duration": 18,
    "start_time": "2024-02-21T20:37:07.252Z"
   },
   {
    "duration": 132,
    "start_time": "2024-02-21T20:43:20.760Z"
   },
   {
    "duration": 10,
    "start_time": "2024-02-21T20:43:23.209Z"
   },
   {
    "duration": 7,
    "start_time": "2024-02-21T20:44:51.610Z"
   },
   {
    "duration": 11,
    "start_time": "2024-02-21T20:49:02.755Z"
   },
   {
    "duration": 9,
    "start_time": "2024-02-21T20:49:30.703Z"
   },
   {
    "duration": 17,
    "start_time": "2024-02-21T20:49:46.856Z"
   },
   {
    "duration": 302,
    "start_time": "2024-02-21T20:49:59.255Z"
   },
   {
    "duration": 315,
    "start_time": "2024-02-21T20:50:49.784Z"
   },
   {
    "duration": 6,
    "start_time": "2024-02-21T20:52:10.550Z"
   },
   {
    "duration": 23,
    "start_time": "2024-02-21T20:52:44.405Z"
   },
   {
    "duration": 1300,
    "start_time": "2024-02-21T20:53:05.366Z"
   },
   {
    "duration": 12,
    "start_time": "2024-02-21T20:53:06.668Z"
   },
   {
    "duration": 30,
    "start_time": "2024-02-21T20:53:06.681Z"
   },
   {
    "duration": 10,
    "start_time": "2024-02-21T20:53:06.713Z"
   },
   {
    "duration": 20,
    "start_time": "2024-02-21T20:53:06.724Z"
   },
   {
    "duration": 8,
    "start_time": "2024-02-21T20:53:06.746Z"
   },
   {
    "duration": 415,
    "start_time": "2024-02-21T20:53:06.756Z"
   },
   {
    "duration": 5,
    "start_time": "2024-02-21T20:53:07.173Z"
   },
   {
    "duration": 6,
    "start_time": "2024-02-21T20:53:07.179Z"
   },
   {
    "duration": 4,
    "start_time": "2024-02-21T20:53:07.187Z"
   },
   {
    "duration": 32,
    "start_time": "2024-02-21T20:53:07.193Z"
   },
   {
    "duration": 5,
    "start_time": "2024-02-21T20:53:07.226Z"
   },
   {
    "duration": 6,
    "start_time": "2024-02-21T20:53:07.233Z"
   },
   {
    "duration": 31,
    "start_time": "2024-02-21T20:53:07.241Z"
   },
   {
    "duration": 12,
    "start_time": "2024-02-21T20:53:07.274Z"
   },
   {
    "duration": 25,
    "start_time": "2024-02-21T20:53:07.287Z"
   },
   {
    "duration": 9,
    "start_time": "2024-02-21T20:53:07.323Z"
   },
   {
    "duration": 586,
    "start_time": "2024-02-21T20:53:07.334Z"
   },
   {
    "duration": 26,
    "start_time": "2024-02-21T20:53:07.921Z"
   },
   {
    "duration": 16,
    "start_time": "2024-02-21T20:53:07.948Z"
   },
   {
    "duration": 11,
    "start_time": "2024-02-21T20:53:07.965Z"
   },
   {
    "duration": 19,
    "start_time": "2024-02-21T20:53:07.977Z"
   },
   {
    "duration": 24,
    "start_time": "2024-02-21T20:53:07.998Z"
   },
   {
    "duration": 10,
    "start_time": "2024-02-21T20:53:08.024Z"
   },
   {
    "duration": 19,
    "start_time": "2024-02-21T20:53:08.036Z"
   },
   {
    "duration": 7,
    "start_time": "2024-02-21T20:53:08.057Z"
   },
   {
    "duration": 7,
    "start_time": "2024-02-21T20:53:08.066Z"
   },
   {
    "duration": 8,
    "start_time": "2024-02-21T20:53:08.078Z"
   },
   {
    "duration": 38,
    "start_time": "2024-02-21T20:53:08.088Z"
   },
   {
    "duration": 5,
    "start_time": "2024-02-21T20:53:08.128Z"
   },
   {
    "duration": 6,
    "start_time": "2024-02-21T20:53:08.135Z"
   },
   {
    "duration": 16,
    "start_time": "2024-02-21T20:53:08.143Z"
   },
   {
    "duration": 5,
    "start_time": "2024-02-21T20:53:08.161Z"
   },
   {
    "duration": 402,
    "start_time": "2024-02-21T20:53:08.167Z"
   },
   {
    "duration": 14,
    "start_time": "2024-02-21T20:53:08.571Z"
   },
   {
    "duration": 9,
    "start_time": "2024-02-21T20:53:08.587Z"
   },
   {
    "duration": 26,
    "start_time": "2024-02-21T20:53:08.598Z"
   },
   {
    "duration": 5,
    "start_time": "2024-02-21T20:53:08.626Z"
   },
   {
    "duration": 14,
    "start_time": "2024-02-21T20:53:08.632Z"
   },
   {
    "duration": 392,
    "start_time": "2024-02-21T20:53:08.648Z"
   },
   {
    "duration": 157,
    "start_time": "2024-02-21T20:53:09.041Z"
   },
   {
    "duration": 203,
    "start_time": "2024-02-21T20:53:09.200Z"
   },
   {
    "duration": 98,
    "start_time": "2024-02-21T20:53:09.405Z"
   },
   {
    "duration": 257,
    "start_time": "2024-02-21T20:53:09.505Z"
   },
   {
    "duration": 5,
    "start_time": "2024-02-21T20:53:09.764Z"
   },
   {
    "duration": 11,
    "start_time": "2024-02-21T20:53:09.770Z"
   },
   {
    "duration": 22,
    "start_time": "2024-02-21T20:53:09.782Z"
   },
   {
    "duration": 7,
    "start_time": "2024-02-21T20:53:09.806Z"
   },
   {
    "duration": 322,
    "start_time": "2024-02-21T20:53:09.823Z"
   },
   {
    "duration": 316,
    "start_time": "2024-02-21T20:53:10.146Z"
   },
   {
    "duration": 77,
    "start_time": "2024-02-21T20:53:10.464Z"
   },
   {
    "duration": 0,
    "start_time": "2024-02-21T20:53:10.542Z"
   },
   {
    "duration": 0,
    "start_time": "2024-02-21T20:53:10.543Z"
   },
   {
    "duration": 0,
    "start_time": "2024-02-21T20:53:10.544Z"
   },
   {
    "duration": 0,
    "start_time": "2024-02-21T20:53:10.545Z"
   },
   {
    "duration": 0,
    "start_time": "2024-02-21T20:53:10.546Z"
   },
   {
    "duration": 0,
    "start_time": "2024-02-21T20:53:10.547Z"
   },
   {
    "duration": 0,
    "start_time": "2024-02-21T20:53:10.548Z"
   },
   {
    "duration": 0,
    "start_time": "2024-02-21T20:53:10.549Z"
   },
   {
    "duration": 0,
    "start_time": "2024-02-21T20:53:10.551Z"
   },
   {
    "duration": 0,
    "start_time": "2024-02-21T20:53:10.552Z"
   },
   {
    "duration": 0,
    "start_time": "2024-02-21T20:53:10.553Z"
   },
   {
    "duration": 0,
    "start_time": "2024-02-21T20:53:10.554Z"
   },
   {
    "duration": 0,
    "start_time": "2024-02-21T20:53:10.555Z"
   },
   {
    "duration": 0,
    "start_time": "2024-02-21T20:53:10.556Z"
   },
   {
    "duration": 0,
    "start_time": "2024-02-21T20:53:10.557Z"
   },
   {
    "duration": 0,
    "start_time": "2024-02-21T20:53:10.558Z"
   },
   {
    "duration": 0,
    "start_time": "2024-02-21T20:53:10.560Z"
   },
   {
    "duration": 0,
    "start_time": "2024-02-21T20:53:10.561Z"
   },
   {
    "duration": 0,
    "start_time": "2024-02-21T20:53:10.562Z"
   },
   {
    "duration": 0,
    "start_time": "2024-02-21T20:53:10.563Z"
   },
   {
    "duration": 0,
    "start_time": "2024-02-21T20:53:10.564Z"
   },
   {
    "duration": 0,
    "start_time": "2024-02-21T20:53:10.566Z"
   },
   {
    "duration": 0,
    "start_time": "2024-02-21T20:53:10.567Z"
   },
   {
    "duration": 0,
    "start_time": "2024-02-21T20:53:10.568Z"
   },
   {
    "duration": 0,
    "start_time": "2024-02-21T20:53:10.569Z"
   },
   {
    "duration": 0,
    "start_time": "2024-02-21T20:53:10.570Z"
   },
   {
    "duration": 0,
    "start_time": "2024-02-21T20:53:10.571Z"
   },
   {
    "duration": 0,
    "start_time": "2024-02-21T20:53:10.572Z"
   },
   {
    "duration": 0,
    "start_time": "2024-02-21T20:53:10.573Z"
   },
   {
    "duration": 0,
    "start_time": "2024-02-21T20:53:10.574Z"
   },
   {
    "duration": 45,
    "start_time": "2024-02-22T06:01:42.897Z"
   },
   {
    "duration": 1467,
    "start_time": "2024-02-22T06:01:55.117Z"
   },
   {
    "duration": 13,
    "start_time": "2024-02-22T06:01:56.586Z"
   },
   {
    "duration": 85,
    "start_time": "2024-02-22T06:01:57.402Z"
   },
   {
    "duration": 10,
    "start_time": "2024-02-22T06:01:58.011Z"
   },
   {
    "duration": 16,
    "start_time": "2024-02-22T06:01:58.880Z"
   },
   {
    "duration": 9,
    "start_time": "2024-02-22T06:02:00.526Z"
   },
   {
    "duration": 382,
    "start_time": "2024-02-22T06:02:01.328Z"
   },
   {
    "duration": 5,
    "start_time": "2024-02-22T06:02:03.615Z"
   },
   {
    "duration": 6,
    "start_time": "2024-02-22T06:02:06.576Z"
   },
   {
    "duration": 4,
    "start_time": "2024-02-22T06:02:08.354Z"
   },
   {
    "duration": 5,
    "start_time": "2024-02-22T06:02:09.385Z"
   },
   {
    "duration": 4,
    "start_time": "2024-02-22T06:02:12.694Z"
   },
   {
    "duration": 6,
    "start_time": "2024-02-22T06:02:16.187Z"
   },
   {
    "duration": 6,
    "start_time": "2024-02-22T06:06:23.631Z"
   },
   {
    "duration": 6,
    "start_time": "2024-02-22T06:07:12.948Z"
   },
   {
    "duration": 5,
    "start_time": "2024-02-22T06:07:13.289Z"
   },
   {
    "duration": 156,
    "start_time": "2024-02-22T06:07:14.064Z"
   },
   {
    "duration": 11,
    "start_time": "2024-02-22T06:07:14.301Z"
   },
   {
    "duration": 16,
    "start_time": "2024-02-22T06:07:14.577Z"
   },
   {
    "duration": 9,
    "start_time": "2024-02-22T06:07:14.832Z"
   },
   {
    "duration": 486,
    "start_time": "2024-02-22T06:07:15.074Z"
   },
   {
    "duration": 62,
    "start_time": "2024-02-22T06:07:33.196Z"
   },
   {
    "duration": 15,
    "start_time": "2024-02-22T06:07:33.465Z"
   },
   {
    "duration": 9,
    "start_time": "2024-02-22T06:07:33.648Z"
   },
   {
    "duration": 7,
    "start_time": "2024-02-22T06:07:33.848Z"
   },
   {
    "duration": 12,
    "start_time": "2024-02-22T06:07:36.122Z"
   },
   {
    "duration": 12,
    "start_time": "2024-02-22T06:07:45.849Z"
   },
   {
    "duration": 8,
    "start_time": "2024-02-22T06:07:46.135Z"
   },
   {
    "duration": 7,
    "start_time": "2024-02-22T06:07:46.465Z"
   },
   {
    "duration": 6,
    "start_time": "2024-02-22T06:07:47.548Z"
   },
   {
    "duration": 6,
    "start_time": "2024-02-22T06:07:51.602Z"
   },
   {
    "duration": 8,
    "start_time": "2024-02-22T06:07:51.927Z"
   },
   {
    "duration": 9,
    "start_time": "2024-02-22T06:07:53.697Z"
   },
   {
    "duration": 5,
    "start_time": "2024-02-22T06:07:54.031Z"
   },
   {
    "duration": 7,
    "start_time": "2024-02-22T06:07:54.516Z"
   },
   {
    "duration": 15,
    "start_time": "2024-02-22T06:07:54.785Z"
   },
   {
    "duration": 5,
    "start_time": "2024-02-22T06:07:57.627Z"
   },
   {
    "duration": 321,
    "start_time": "2024-02-22T06:07:58.460Z"
   },
   {
    "duration": 13,
    "start_time": "2024-02-22T06:08:00.269Z"
   },
   {
    "duration": 9,
    "start_time": "2024-02-22T06:08:01.012Z"
   },
   {
    "duration": 1305,
    "start_time": "2024-02-22T06:11:09.412Z"
   },
   {
    "duration": 13,
    "start_time": "2024-02-22T06:11:10.719Z"
   },
   {
    "duration": 250,
    "start_time": "2024-02-22T06:11:10.733Z"
   },
   {
    "duration": 29,
    "start_time": "2024-02-22T06:11:10.985Z"
   },
   {
    "duration": 45,
    "start_time": "2024-02-22T06:11:11.016Z"
   },
   {
    "duration": 19,
    "start_time": "2024-02-22T06:11:11.063Z"
   },
   {
    "duration": 411,
    "start_time": "2024-02-22T06:11:11.084Z"
   },
   {
    "duration": 6,
    "start_time": "2024-02-22T06:11:11.496Z"
   },
   {
    "duration": 18,
    "start_time": "2024-02-22T06:11:11.503Z"
   },
   {
    "duration": 27,
    "start_time": "2024-02-22T06:11:11.523Z"
   },
   {
    "duration": 30,
    "start_time": "2024-02-22T06:11:11.551Z"
   },
   {
    "duration": 20,
    "start_time": "2024-02-22T06:11:11.583Z"
   },
   {
    "duration": 28,
    "start_time": "2024-02-22T06:11:11.605Z"
   },
   {
    "duration": 30,
    "start_time": "2024-02-22T06:11:11.635Z"
   },
   {
    "duration": 54,
    "start_time": "2024-02-22T06:11:11.667Z"
   },
   {
    "duration": 12,
    "start_time": "2024-02-22T06:11:11.722Z"
   },
   {
    "duration": 43,
    "start_time": "2024-02-22T06:11:11.736Z"
   },
   {
    "duration": 21,
    "start_time": "2024-02-22T06:11:11.781Z"
   },
   {
    "duration": 514,
    "start_time": "2024-02-22T06:11:11.803Z"
   },
   {
    "duration": 26,
    "start_time": "2024-02-22T06:11:12.318Z"
   },
   {
    "duration": 16,
    "start_time": "2024-02-22T06:11:12.345Z"
   },
   {
    "duration": 20,
    "start_time": "2024-02-22T06:11:12.362Z"
   },
   {
    "duration": 15,
    "start_time": "2024-02-22T06:11:12.383Z"
   },
   {
    "duration": 21,
    "start_time": "2024-02-22T06:11:12.399Z"
   },
   {
    "duration": 33,
    "start_time": "2024-02-22T06:11:12.422Z"
   },
   {
    "duration": 37,
    "start_time": "2024-02-22T06:11:12.457Z"
   },
   {
    "duration": 28,
    "start_time": "2024-02-22T06:11:12.496Z"
   },
   {
    "duration": 22,
    "start_time": "2024-02-22T06:11:12.528Z"
   },
   {
    "duration": 20,
    "start_time": "2024-02-22T06:11:12.552Z"
   },
   {
    "duration": 33,
    "start_time": "2024-02-22T06:11:12.573Z"
   },
   {
    "duration": 17,
    "start_time": "2024-02-22T06:11:12.608Z"
   },
   {
    "duration": 17,
    "start_time": "2024-02-22T06:11:12.626Z"
   },
   {
    "duration": 26,
    "start_time": "2024-02-22T06:11:12.645Z"
   },
   {
    "duration": 11,
    "start_time": "2024-02-22T06:11:12.673Z"
   },
   {
    "duration": 361,
    "start_time": "2024-02-22T06:11:12.686Z"
   },
   {
    "duration": 14,
    "start_time": "2024-02-22T06:11:13.049Z"
   },
   {
    "duration": 17,
    "start_time": "2024-02-22T06:11:13.065Z"
   },
   {
    "duration": 29,
    "start_time": "2024-02-22T06:11:13.083Z"
   },
   {
    "duration": 31,
    "start_time": "2024-02-22T06:11:13.113Z"
   },
   {
    "duration": 123,
    "start_time": "2024-02-22T06:11:13.145Z"
   },
   {
    "duration": 0,
    "start_time": "2024-02-22T06:11:13.270Z"
   },
   {
    "duration": 0,
    "start_time": "2024-02-22T06:11:13.271Z"
   },
   {
    "duration": 0,
    "start_time": "2024-02-22T06:11:13.273Z"
   },
   {
    "duration": 0,
    "start_time": "2024-02-22T06:11:13.274Z"
   },
   {
    "duration": 0,
    "start_time": "2024-02-22T06:11:13.275Z"
   },
   {
    "duration": 0,
    "start_time": "2024-02-22T06:11:13.276Z"
   },
   {
    "duration": 0,
    "start_time": "2024-02-22T06:11:13.278Z"
   },
   {
    "duration": 0,
    "start_time": "2024-02-22T06:11:13.279Z"
   },
   {
    "duration": 0,
    "start_time": "2024-02-22T06:11:13.280Z"
   },
   {
    "duration": 0,
    "start_time": "2024-02-22T06:11:13.362Z"
   },
   {
    "duration": 0,
    "start_time": "2024-02-22T06:11:13.363Z"
   },
   {
    "duration": 0,
    "start_time": "2024-02-22T06:11:13.364Z"
   },
   {
    "duration": 0,
    "start_time": "2024-02-22T06:11:13.365Z"
   },
   {
    "duration": 0,
    "start_time": "2024-02-22T06:11:13.366Z"
   },
   {
    "duration": 0,
    "start_time": "2024-02-22T06:11:13.367Z"
   },
   {
    "duration": 0,
    "start_time": "2024-02-22T06:11:13.368Z"
   },
   {
    "duration": 0,
    "start_time": "2024-02-22T06:11:13.369Z"
   },
   {
    "duration": 0,
    "start_time": "2024-02-22T06:11:13.371Z"
   },
   {
    "duration": 0,
    "start_time": "2024-02-22T06:11:13.372Z"
   },
   {
    "duration": 0,
    "start_time": "2024-02-22T06:11:13.394Z"
   },
   {
    "duration": 0,
    "start_time": "2024-02-22T06:11:13.395Z"
   },
   {
    "duration": 0,
    "start_time": "2024-02-22T06:11:13.396Z"
   },
   {
    "duration": 0,
    "start_time": "2024-02-22T06:11:13.398Z"
   },
   {
    "duration": 0,
    "start_time": "2024-02-22T06:11:13.399Z"
   },
   {
    "duration": 0,
    "start_time": "2024-02-22T06:11:13.400Z"
   },
   {
    "duration": 0,
    "start_time": "2024-02-22T06:11:13.402Z"
   },
   {
    "duration": 0,
    "start_time": "2024-02-22T06:11:13.403Z"
   },
   {
    "duration": 0,
    "start_time": "2024-02-22T06:11:13.409Z"
   },
   {
    "duration": 0,
    "start_time": "2024-02-22T06:11:13.410Z"
   },
   {
    "duration": 0,
    "start_time": "2024-02-22T06:11:13.412Z"
   },
   {
    "duration": 0,
    "start_time": "2024-02-22T06:11:13.413Z"
   },
   {
    "duration": 0,
    "start_time": "2024-02-22T06:11:13.414Z"
   },
   {
    "duration": 0,
    "start_time": "2024-02-22T06:11:13.415Z"
   },
   {
    "duration": 0,
    "start_time": "2024-02-22T06:11:13.416Z"
   },
   {
    "duration": 0,
    "start_time": "2024-02-22T06:11:13.418Z"
   },
   {
    "duration": 0,
    "start_time": "2024-02-22T06:11:13.419Z"
   },
   {
    "duration": 1,
    "start_time": "2024-02-22T06:11:13.420Z"
   },
   {
    "duration": 0,
    "start_time": "2024-02-22T06:11:13.421Z"
   },
   {
    "duration": 0,
    "start_time": "2024-02-22T06:11:13.423Z"
   },
   {
    "duration": 0,
    "start_time": "2024-02-22T06:11:13.424Z"
   },
   {
    "duration": 0,
    "start_time": "2024-02-22T06:11:13.425Z"
   },
   {
    "duration": 5,
    "start_time": "2024-02-22T06:11:28.304Z"
   },
   {
    "duration": 12,
    "start_time": "2024-02-22T06:11:28.721Z"
   },
   {
    "duration": 26,
    "start_time": "2024-02-22T06:11:29.356Z"
   },
   {
    "duration": 9,
    "start_time": "2024-02-22T06:11:29.569Z"
   },
   {
    "duration": 14,
    "start_time": "2024-02-22T06:11:29.783Z"
   },
   {
    "duration": 9,
    "start_time": "2024-02-22T06:11:29.990Z"
   },
   {
    "duration": 370,
    "start_time": "2024-02-22T06:11:30.198Z"
   },
   {
    "duration": 6,
    "start_time": "2024-02-22T06:11:30.685Z"
   },
   {
    "duration": 5,
    "start_time": "2024-02-22T06:11:32.049Z"
   },
   {
    "duration": 4,
    "start_time": "2024-02-22T06:11:32.739Z"
   },
   {
    "duration": 5,
    "start_time": "2024-02-22T06:11:33.268Z"
   },
   {
    "duration": 4,
    "start_time": "2024-02-22T06:11:33.706Z"
   },
   {
    "duration": 6,
    "start_time": "2024-02-22T06:11:33.948Z"
   },
   {
    "duration": 6,
    "start_time": "2024-02-22T06:11:34.155Z"
   },
   {
    "duration": 37,
    "start_time": "2024-02-22T06:11:34.816Z"
   },
   {
    "duration": 12,
    "start_time": "2024-02-22T06:11:35.030Z"
   },
   {
    "duration": 17,
    "start_time": "2024-02-22T06:11:35.243Z"
   },
   {
    "duration": 9,
    "start_time": "2024-02-22T06:11:35.456Z"
   },
   {
    "duration": 482,
    "start_time": "2024-02-22T06:11:35.689Z"
   },
   {
    "duration": 25,
    "start_time": "2024-02-22T06:11:36.343Z"
   },
   {
    "duration": 15,
    "start_time": "2024-02-22T06:11:36.573Z"
   },
   {
    "duration": 9,
    "start_time": "2024-02-22T06:11:36.781Z"
   },
   {
    "duration": 8,
    "start_time": "2024-02-22T06:11:37.336Z"
   },
   {
    "duration": 7,
    "start_time": "2024-02-22T06:12:57.426Z"
   },
   {
    "duration": 7,
    "start_time": "2024-02-22T06:13:07.494Z"
   },
   {
    "duration": 6,
    "start_time": "2024-02-22T06:13:40.088Z"
   },
   {
    "duration": 7,
    "start_time": "2024-02-22T06:14:42.563Z"
   },
   {
    "duration": 8,
    "start_time": "2024-02-22T06:14:43.036Z"
   },
   {
    "duration": 9,
    "start_time": "2024-02-22T06:14:53.213Z"
   },
   {
    "duration": 5,
    "start_time": "2024-02-22T06:15:09.997Z"
   },
   {
    "duration": 7,
    "start_time": "2024-02-22T06:15:10.238Z"
   },
   {
    "duration": 16,
    "start_time": "2024-02-22T06:15:10.695Z"
   },
   {
    "duration": 4,
    "start_time": "2024-02-22T06:15:11.401Z"
   },
   {
    "duration": 10740,
    "start_time": "2024-02-22T06:15:11.674Z"
   },
   {
    "duration": 13,
    "start_time": "2024-02-22T06:15:22.416Z"
   },
   {
    "duration": 4,
    "start_time": "2024-02-22T06:15:45.376Z"
   },
   {
    "duration": 4,
    "start_time": "2024-02-22T06:15:45.871Z"
   },
   {
    "duration": 3,
    "start_time": "2024-02-22T06:15:46.594Z"
   },
   {
    "duration": 17,
    "start_time": "2024-02-22T06:15:47.333Z"
   },
   {
    "duration": 138,
    "start_time": "2024-02-22T06:16:00.456Z"
   },
   {
    "duration": 24,
    "start_time": "2024-02-22T06:16:59.722Z"
   },
   {
    "duration": 97,
    "start_time": "2024-02-22T06:17:00.498Z"
   },
   {
    "duration": 328,
    "start_time": "2024-02-22T06:17:12.681Z"
   },
   {
    "duration": 6,
    "start_time": "2024-02-22T06:17:20.090Z"
   },
   {
    "duration": 5,
    "start_time": "2024-02-22T06:17:21.772Z"
   },
   {
    "duration": 9,
    "start_time": "2024-02-22T06:20:07.520Z"
   },
   {
    "duration": 5,
    "start_time": "2024-02-22T06:20:08.474Z"
   },
   {
    "duration": 10,
    "start_time": "2024-02-22T06:20:09.017Z"
   },
   {
    "duration": 1605,
    "start_time": "2024-02-22T06:20:09.531Z"
   },
   {
    "duration": 3,
    "start_time": "2024-02-22T06:20:36.525Z"
   },
   {
    "duration": 4,
    "start_time": "2024-02-22T06:21:20.254Z"
   },
   {
    "duration": 4,
    "start_time": "2024-02-22T06:21:20.915Z"
   },
   {
    "duration": 9,
    "start_time": "2024-02-22T06:21:22.297Z"
   },
   {
    "duration": 6,
    "start_time": "2024-02-22T06:21:59.541Z"
   },
   {
    "duration": 6,
    "start_time": "2024-02-22T06:22:01.594Z"
   },
   {
    "duration": 144,
    "start_time": "2024-02-22T06:22:33.773Z"
   },
   {
    "duration": 3,
    "start_time": "2024-02-22T06:26:02.114Z"
   },
   {
    "duration": 4,
    "start_time": "2024-02-22T06:26:03.024Z"
   },
   {
    "duration": 6,
    "start_time": "2024-02-22T06:26:47.680Z"
   },
   {
    "duration": 6,
    "start_time": "2024-02-22T06:27:33.591Z"
   },
   {
    "duration": 254,
    "start_time": "2024-02-22T06:28:38.926Z"
   },
   {
    "duration": 4,
    "start_time": "2024-02-22T06:28:39.787Z"
   },
   {
    "duration": 6,
    "start_time": "2024-02-22T06:28:42.486Z"
   },
   {
    "duration": 10,
    "start_time": "2024-02-22T06:28:56.190Z"
   },
   {
    "duration": 8,
    "start_time": "2024-02-22T06:29:04.563Z"
   },
   {
    "duration": 333,
    "start_time": "2024-02-22T06:29:08.637Z"
   },
   {
    "duration": 198,
    "start_time": "2024-02-22T06:29:30.950Z"
   },
   {
    "duration": 116,
    "start_time": "2024-02-22T06:29:37.916Z"
   },
   {
    "duration": 6,
    "start_time": "2024-02-22T06:29:45.442Z"
   },
   {
    "duration": 6,
    "start_time": "2024-02-22T06:30:12.638Z"
   },
   {
    "duration": 7,
    "start_time": "2024-02-22T06:30:15.547Z"
   },
   {
    "duration": 14,
    "start_time": "2024-02-22T06:30:20.306Z"
   },
   {
    "duration": 186,
    "start_time": "2024-02-22T06:30:29.024Z"
   },
   {
    "duration": 416,
    "start_time": "2024-02-22T06:30:31.306Z"
   },
   {
    "duration": 24,
    "start_time": "2024-02-22T06:31:50.838Z"
   },
   {
    "duration": 8,
    "start_time": "2024-02-22T06:31:52.603Z"
   },
   {
    "duration": 11,
    "start_time": "2024-02-22T06:31:53.468Z"
   },
   {
    "duration": 9,
    "start_time": "2024-02-22T06:32:21.425Z"
   },
   {
    "duration": 38,
    "start_time": "2024-02-22T06:32:56.603Z"
   },
   {
    "duration": 11,
    "start_time": "2024-02-22T06:33:15.995Z"
   },
   {
    "duration": 16,
    "start_time": "2024-02-22T06:33:43.907Z"
   },
   {
    "duration": 13,
    "start_time": "2024-02-22T06:33:45.652Z"
   },
   {
    "duration": 13,
    "start_time": "2024-02-22T06:33:47.314Z"
   },
   {
    "duration": 11,
    "start_time": "2024-02-22T06:33:48.467Z"
   },
   {
    "duration": 11,
    "start_time": "2024-02-22T06:34:28.535Z"
   },
   {
    "duration": 10,
    "start_time": "2024-02-22T06:35:00.086Z"
   },
   {
    "duration": 10,
    "start_time": "2024-02-22T06:35:25.370Z"
   },
   {
    "duration": 4,
    "start_time": "2024-02-22T06:35:42.994Z"
   },
   {
    "duration": 23,
    "start_time": "2024-02-22T06:37:19.876Z"
   },
   {
    "duration": 8,
    "start_time": "2024-02-22T06:37:27.101Z"
   },
   {
    "duration": 8,
    "start_time": "2024-02-22T06:37:28.715Z"
   },
   {
    "duration": 11,
    "start_time": "2024-02-22T06:37:49.989Z"
   },
   {
    "duration": 13,
    "start_time": "2024-02-22T06:38:51.087Z"
   },
   {
    "duration": 11,
    "start_time": "2024-02-22T06:40:55.258Z"
   },
   {
    "duration": 12,
    "start_time": "2024-02-22T06:41:02.969Z"
   },
   {
    "duration": 11,
    "start_time": "2024-02-22T06:41:48.709Z"
   },
   {
    "duration": 12,
    "start_time": "2024-02-22T06:42:04.827Z"
   },
   {
    "duration": 14,
    "start_time": "2024-02-22T06:47:21.421Z"
   },
   {
    "duration": 6,
    "start_time": "2024-02-22T08:10:08.151Z"
   },
   {
    "duration": 7,
    "start_time": "2024-02-22T08:10:08.952Z"
   },
   {
    "duration": 11,
    "start_time": "2024-02-22T08:10:09.648Z"
   },
   {
    "duration": 9,
    "start_time": "2024-02-22T08:10:11.635Z"
   },
   {
    "duration": 8,
    "start_time": "2024-02-22T08:10:12.700Z"
   },
   {
    "duration": 8,
    "start_time": "2024-02-22T08:10:13.541Z"
   },
   {
    "duration": 13,
    "start_time": "2024-02-22T08:10:43.486Z"
   },
   {
    "duration": 551,
    "start_time": "2024-02-22T08:10:50.020Z"
   },
   {
    "duration": 63,
    "start_time": "2024-02-22T08:11:56.871Z"
   },
   {
    "duration": 48,
    "start_time": "2024-02-22T08:12:20.061Z"
   },
   {
    "duration": 11,
    "start_time": "2024-02-22T08:14:14.202Z"
   },
   {
    "duration": 373,
    "start_time": "2024-02-22T08:14:30.111Z"
   },
   {
    "duration": 392,
    "start_time": "2024-02-22T08:15:33.375Z"
   },
   {
    "duration": 188,
    "start_time": "2024-02-22T08:21:23.053Z"
   },
   {
    "duration": 255,
    "start_time": "2024-02-22T08:21:25.160Z"
   },
   {
    "duration": 187,
    "start_time": "2024-02-22T08:21:47.189Z"
   },
   {
    "duration": 601,
    "start_time": "2024-02-22T08:25:29.202Z"
   },
   {
    "duration": 9,
    "start_time": "2024-02-22T08:28:00.697Z"
   },
   {
    "duration": 9,
    "start_time": "2024-02-22T08:30:55.174Z"
   },
   {
    "duration": 475,
    "start_time": "2024-02-22T08:31:06.922Z"
   },
   {
    "duration": 349,
    "start_time": "2024-02-22T08:32:42.945Z"
   },
   {
    "duration": 1203,
    "start_time": "2024-02-22T08:33:45.981Z"
   },
   {
    "duration": 13,
    "start_time": "2024-02-22T08:33:47.186Z"
   },
   {
    "duration": 70,
    "start_time": "2024-02-22T08:33:47.200Z"
   },
   {
    "duration": 21,
    "start_time": "2024-02-22T08:33:47.272Z"
   },
   {
    "duration": 69,
    "start_time": "2024-02-22T08:33:47.295Z"
   },
   {
    "duration": 21,
    "start_time": "2024-02-22T08:33:47.366Z"
   },
   {
    "duration": 439,
    "start_time": "2024-02-22T08:33:47.389Z"
   },
   {
    "duration": 6,
    "start_time": "2024-02-22T08:33:47.829Z"
   },
   {
    "duration": 39,
    "start_time": "2024-02-22T08:33:47.836Z"
   },
   {
    "duration": 26,
    "start_time": "2024-02-22T08:33:47.877Z"
   },
   {
    "duration": 31,
    "start_time": "2024-02-22T08:33:47.905Z"
   },
   {
    "duration": 25,
    "start_time": "2024-02-22T08:33:47.938Z"
   },
   {
    "duration": 45,
    "start_time": "2024-02-22T08:33:47.964Z"
   },
   {
    "duration": 30,
    "start_time": "2024-02-22T08:33:48.011Z"
   },
   {
    "duration": 56,
    "start_time": "2024-02-22T08:33:48.043Z"
   },
   {
    "duration": 11,
    "start_time": "2024-02-22T08:33:48.100Z"
   },
   {
    "duration": 47,
    "start_time": "2024-02-22T08:33:48.113Z"
   },
   {
    "duration": 18,
    "start_time": "2024-02-22T08:33:48.162Z"
   },
   {
    "duration": 519,
    "start_time": "2024-02-22T08:33:48.182Z"
   },
   {
    "duration": 25,
    "start_time": "2024-02-22T08:33:48.702Z"
   },
   {
    "duration": 18,
    "start_time": "2024-02-22T08:33:48.728Z"
   },
   {
    "duration": 42,
    "start_time": "2024-02-22T08:33:48.748Z"
   },
   {
    "duration": 26,
    "start_time": "2024-02-22T08:33:48.792Z"
   },
   {
    "duration": 29,
    "start_time": "2024-02-22T08:33:48.820Z"
   },
   {
    "duration": 39,
    "start_time": "2024-02-22T08:33:48.850Z"
   },
   {
    "duration": 29,
    "start_time": "2024-02-22T08:33:48.891Z"
   },
   {
    "duration": 61,
    "start_time": "2024-02-22T08:33:48.922Z"
   },
   {
    "duration": 43,
    "start_time": "2024-02-22T08:33:48.988Z"
   },
   {
    "duration": 51,
    "start_time": "2024-02-22T08:33:49.033Z"
   },
   {
    "duration": 52,
    "start_time": "2024-02-22T08:33:49.086Z"
   },
   {
    "duration": 19,
    "start_time": "2024-02-22T08:33:49.139Z"
   },
   {
    "duration": 42,
    "start_time": "2024-02-22T08:33:49.160Z"
   },
   {
    "duration": 52,
    "start_time": "2024-02-22T08:33:49.204Z"
   },
   {
    "duration": 40,
    "start_time": "2024-02-22T08:33:49.257Z"
   },
   {
    "duration": 387,
    "start_time": "2024-02-22T08:33:49.298Z"
   },
   {
    "duration": 16,
    "start_time": "2024-02-22T08:33:49.687Z"
   },
   {
    "duration": 28,
    "start_time": "2024-02-22T08:33:49.704Z"
   },
   {
    "duration": 39,
    "start_time": "2024-02-22T08:33:49.734Z"
   },
   {
    "duration": 32,
    "start_time": "2024-02-22T08:33:49.774Z"
   },
   {
    "duration": 42,
    "start_time": "2024-02-22T08:33:49.807Z"
   },
   {
    "duration": 221,
    "start_time": "2024-02-22T08:33:49.851Z"
   },
   {
    "duration": 3,
    "start_time": "2024-02-22T08:33:50.074Z"
   },
   {
    "duration": 33,
    "start_time": "2024-02-22T08:33:50.079Z"
   },
   {
    "duration": 95,
    "start_time": "2024-02-22T08:33:50.114Z"
   },
   {
    "duration": 105,
    "start_time": "2024-02-22T08:33:50.211Z"
   },
   {
    "duration": 0,
    "start_time": "2024-02-22T08:33:50.318Z"
   },
   {
    "duration": 0,
    "start_time": "2024-02-22T08:33:50.319Z"
   },
   {
    "duration": 0,
    "start_time": "2024-02-22T08:33:50.320Z"
   },
   {
    "duration": 0,
    "start_time": "2024-02-22T08:33:50.322Z"
   },
   {
    "duration": 0,
    "start_time": "2024-02-22T08:33:50.323Z"
   },
   {
    "duration": 0,
    "start_time": "2024-02-22T08:33:50.324Z"
   },
   {
    "duration": 0,
    "start_time": "2024-02-22T08:33:50.326Z"
   },
   {
    "duration": 0,
    "start_time": "2024-02-22T08:33:50.327Z"
   },
   {
    "duration": 0,
    "start_time": "2024-02-22T08:33:50.329Z"
   },
   {
    "duration": 0,
    "start_time": "2024-02-22T08:33:50.331Z"
   },
   {
    "duration": 0,
    "start_time": "2024-02-22T08:33:50.332Z"
   },
   {
    "duration": 0,
    "start_time": "2024-02-22T08:33:50.334Z"
   },
   {
    "duration": 0,
    "start_time": "2024-02-22T08:33:50.335Z"
   },
   {
    "duration": 0,
    "start_time": "2024-02-22T08:33:50.337Z"
   },
   {
    "duration": 0,
    "start_time": "2024-02-22T08:33:50.338Z"
   },
   {
    "duration": 0,
    "start_time": "2024-02-22T08:33:50.339Z"
   },
   {
    "duration": 0,
    "start_time": "2024-02-22T08:33:50.340Z"
   },
   {
    "duration": 0,
    "start_time": "2024-02-22T08:33:50.342Z"
   },
   {
    "duration": 0,
    "start_time": "2024-02-22T08:33:50.344Z"
   },
   {
    "duration": 0,
    "start_time": "2024-02-22T08:33:50.345Z"
   },
   {
    "duration": 0,
    "start_time": "2024-02-22T08:33:50.346Z"
   },
   {
    "duration": 1,
    "start_time": "2024-02-22T08:33:50.394Z"
   },
   {
    "duration": 0,
    "start_time": "2024-02-22T08:33:50.396Z"
   },
   {
    "duration": 0,
    "start_time": "2024-02-22T08:33:50.397Z"
   },
   {
    "duration": 0,
    "start_time": "2024-02-22T08:33:50.398Z"
   },
   {
    "duration": 0,
    "start_time": "2024-02-22T08:33:50.400Z"
   },
   {
    "duration": 1,
    "start_time": "2024-02-22T08:33:50.401Z"
   },
   {
    "duration": 0,
    "start_time": "2024-02-22T08:33:50.403Z"
   },
   {
    "duration": 0,
    "start_time": "2024-02-22T08:33:50.405Z"
   },
   {
    "duration": 0,
    "start_time": "2024-02-22T08:33:50.406Z"
   },
   {
    "duration": 0,
    "start_time": "2024-02-22T08:33:50.407Z"
   },
   {
    "duration": 0,
    "start_time": "2024-02-22T08:33:50.409Z"
   },
   {
    "duration": 0,
    "start_time": "2024-02-22T08:33:50.410Z"
   },
   {
    "duration": 0,
    "start_time": "2024-02-22T08:33:50.412Z"
   },
   {
    "duration": 0,
    "start_time": "2024-02-22T08:33:50.413Z"
   },
   {
    "duration": 1,
    "start_time": "2024-02-22T08:33:50.414Z"
   },
   {
    "duration": 0,
    "start_time": "2024-02-22T08:33:50.416Z"
   },
   {
    "duration": 0,
    "start_time": "2024-02-22T08:33:50.417Z"
   },
   {
    "duration": 0,
    "start_time": "2024-02-22T08:33:50.419Z"
   },
   {
    "duration": 4,
    "start_time": "2024-02-22T08:35:41.190Z"
   },
   {
    "duration": 10,
    "start_time": "2024-02-22T08:35:41.831Z"
   },
   {
    "duration": 26,
    "start_time": "2024-02-22T08:35:42.808Z"
   },
   {
    "duration": 9,
    "start_time": "2024-02-22T08:35:43.165Z"
   },
   {
    "duration": 14,
    "start_time": "2024-02-22T08:35:43.471Z"
   },
   {
    "duration": 9,
    "start_time": "2024-02-22T08:35:43.749Z"
   },
   {
    "duration": 360,
    "start_time": "2024-02-22T08:35:44.019Z"
   },
   {
    "duration": 5,
    "start_time": "2024-02-22T08:35:45.274Z"
   },
   {
    "duration": 4,
    "start_time": "2024-02-22T08:35:46.545Z"
   },
   {
    "duration": 5,
    "start_time": "2024-02-22T08:35:47.844Z"
   },
   {
    "duration": 5,
    "start_time": "2024-02-22T08:35:48.890Z"
   },
   {
    "duration": 4,
    "start_time": "2024-02-22T08:35:49.675Z"
   },
   {
    "duration": 6,
    "start_time": "2024-02-22T08:35:50.028Z"
   },
   {
    "duration": 5,
    "start_time": "2024-02-22T08:35:50.368Z"
   },
   {
    "duration": 36,
    "start_time": "2024-02-22T08:35:51.727Z"
   },
   {
    "duration": 11,
    "start_time": "2024-02-22T08:35:52.046Z"
   },
   {
    "duration": 16,
    "start_time": "2024-02-22T08:35:52.342Z"
   },
   {
    "duration": 9,
    "start_time": "2024-02-22T08:35:52.632Z"
   },
   {
    "duration": 478,
    "start_time": "2024-02-22T08:35:52.985Z"
   },
   {
    "duration": 25,
    "start_time": "2024-02-22T08:35:54.567Z"
   },
   {
    "duration": 15,
    "start_time": "2024-02-22T08:35:54.927Z"
   },
   {
    "duration": 10,
    "start_time": "2024-02-22T08:35:55.245Z"
   },
   {
    "duration": 6,
    "start_time": "2024-02-22T08:35:55.621Z"
   },
   {
    "duration": 5,
    "start_time": "2024-02-22T08:35:56.205Z"
   },
   {
    "duration": 14,
    "start_time": "2024-02-22T08:35:57.451Z"
   },
   {
    "duration": 9,
    "start_time": "2024-02-22T08:35:57.757Z"
   },
   {
    "duration": 6,
    "start_time": "2024-02-22T08:35:58.071Z"
   },
   {
    "duration": 6,
    "start_time": "2024-02-22T08:35:58.866Z"
   },
   {
    "duration": 7,
    "start_time": "2024-02-22T08:35:59.232Z"
   },
   {
    "duration": 8,
    "start_time": "2024-02-22T08:36:00.264Z"
   },
   {
    "duration": 5,
    "start_time": "2024-02-22T08:36:00.659Z"
   },
   {
    "duration": 6,
    "start_time": "2024-02-22T08:36:01.027Z"
   },
   {
    "duration": 16,
    "start_time": "2024-02-22T08:36:01.357Z"
   },
   {
    "duration": 5,
    "start_time": "2024-02-22T08:36:02.455Z"
   },
   {
    "duration": 266,
    "start_time": "2024-02-22T08:36:02.817Z"
   },
   {
    "duration": 14,
    "start_time": "2024-02-22T08:36:04.041Z"
   },
   {
    "duration": 4,
    "start_time": "2024-02-22T08:36:06.592Z"
   },
   {
    "duration": 4,
    "start_time": "2024-02-22T08:36:07.002Z"
   },
   {
    "duration": 5,
    "start_time": "2024-02-22T08:36:07.478Z"
   },
   {
    "duration": 4,
    "start_time": "2024-02-22T08:36:07.941Z"
   },
   {
    "duration": 144,
    "start_time": "2024-02-22T08:36:17.842Z"
   },
   {
    "duration": 3,
    "start_time": "2024-02-22T08:36:20.049Z"
   },
   {
    "duration": 5,
    "start_time": "2024-02-22T08:36:22.040Z"
   },
   {
    "duration": 83,
    "start_time": "2024-02-22T08:36:22.418Z"
   },
   {
    "duration": 8,
    "start_time": "2024-02-22T08:36:24.220Z"
   },
   {
    "duration": 8,
    "start_time": "2024-02-22T08:36:43.865Z"
   },
   {
    "duration": 5,
    "start_time": "2024-02-22T08:36:44.936Z"
   },
   {
    "duration": 6,
    "start_time": "2024-02-22T08:36:46.409Z"
   },
   {
    "duration": 9,
    "start_time": "2024-02-22T08:37:59.583Z"
   },
   {
    "duration": 164,
    "start_time": "2024-02-22T08:38:15.293Z"
   },
   {
    "duration": 146,
    "start_time": "2024-02-22T08:38:30.999Z"
   },
   {
    "duration": 4,
    "start_time": "2024-02-22T08:38:32.816Z"
   },
   {
    "duration": 4,
    "start_time": "2024-02-22T08:38:33.136Z"
   },
   {
    "duration": 173,
    "start_time": "2024-02-22T08:38:33.703Z"
   },
   {
    "duration": 157,
    "start_time": "2024-02-22T08:38:35.922Z"
   },
   {
    "duration": 8,
    "start_time": "2024-02-22T08:38:37.435Z"
   },
   {
    "duration": 6,
    "start_time": "2024-02-22T08:38:38.502Z"
   },
   {
    "duration": 7,
    "start_time": "2024-02-22T08:38:40.922Z"
   },
   {
    "duration": 7,
    "start_time": "2024-02-22T08:38:42.370Z"
   },
   {
    "duration": 10,
    "start_time": "2024-02-22T08:38:43.249Z"
   },
   {
    "duration": 221,
    "start_time": "2024-02-22T08:38:43.773Z"
   },
   {
    "duration": 16,
    "start_time": "2024-02-22T08:40:33.276Z"
   },
   {
    "duration": 275,
    "start_time": "2024-02-22T08:40:55.949Z"
   },
   {
    "duration": 1603,
    "start_time": "2024-02-22T08:42:32.106Z"
   },
   {
    "duration": 169,
    "start_time": "2024-02-22T08:43:11.436Z"
   },
   {
    "duration": 168,
    "start_time": "2024-02-22T08:44:15.204Z"
   },
   {
    "duration": 193,
    "start_time": "2024-02-22T08:44:43.052Z"
   },
   {
    "duration": 9,
    "start_time": "2024-02-22T08:44:45.447Z"
   },
   {
    "duration": 7,
    "start_time": "2024-02-22T08:44:46.434Z"
   },
   {
    "duration": 15,
    "start_time": "2024-02-22T08:44:47.444Z"
   },
   {
    "duration": 171,
    "start_time": "2024-02-22T08:44:48.349Z"
   },
   {
    "duration": 9,
    "start_time": "2024-02-22T08:44:48.960Z"
   },
   {
    "duration": 163,
    "start_time": "2024-02-22T08:46:46.441Z"
   },
   {
    "duration": 222,
    "start_time": "2024-02-22T08:48:01.050Z"
   },
   {
    "duration": 214,
    "start_time": "2024-02-22T08:48:57.785Z"
   },
   {
    "duration": 261,
    "start_time": "2024-02-22T08:48:59.409Z"
   },
   {
    "duration": 270,
    "start_time": "2024-02-22T08:49:22.125Z"
   },
   {
    "duration": 228,
    "start_time": "2024-02-22T08:49:57.559Z"
   },
   {
    "duration": 215,
    "start_time": "2024-02-22T08:50:33.790Z"
   },
   {
    "duration": 201,
    "start_time": "2024-02-22T08:51:11.732Z"
   },
   {
    "duration": 188,
    "start_time": "2024-02-22T08:51:50.060Z"
   },
   {
    "duration": 175,
    "start_time": "2024-02-22T08:52:06.172Z"
   },
   {
    "duration": 176,
    "start_time": "2024-02-22T08:52:15.366Z"
   },
   {
    "duration": 18,
    "start_time": "2024-02-22T08:52:47.401Z"
   },
   {
    "duration": 14,
    "start_time": "2024-02-22T08:52:48.772Z"
   },
   {
    "duration": 14,
    "start_time": "2024-02-22T08:52:50.045Z"
   },
   {
    "duration": 3,
    "start_time": "2024-02-22T08:52:51.504Z"
   },
   {
    "duration": 7,
    "start_time": "2024-02-22T08:53:16.693Z"
   },
   {
    "duration": 12,
    "start_time": "2024-02-22T08:53:17.123Z"
   },
   {
    "duration": 14,
    "start_time": "2024-02-22T08:53:17.636Z"
   },
   {
    "duration": 6,
    "start_time": "2024-02-22T08:53:18.720Z"
   },
   {
    "duration": 11,
    "start_time": "2024-02-22T08:53:19.207Z"
   },
   {
    "duration": 11,
    "start_time": "2024-02-22T08:53:19.814Z"
   },
   {
    "duration": 201,
    "start_time": "2024-02-22T08:53:24.639Z"
   },
   {
    "duration": 199,
    "start_time": "2024-02-22T08:53:36.684Z"
   },
   {
    "duration": 617,
    "start_time": "2024-02-22T08:53:40.025Z"
   },
   {
    "duration": 524,
    "start_time": "2024-02-22T08:53:50.891Z"
   },
   {
    "duration": 613,
    "start_time": "2024-02-22T08:53:53.819Z"
   },
   {
    "duration": 203,
    "start_time": "2024-02-22T08:56:20.061Z"
   },
   {
    "duration": 233,
    "start_time": "2024-02-22T08:56:23.349Z"
   },
   {
    "duration": 198,
    "start_time": "2024-02-22T09:00:31.196Z"
   },
   {
    "duration": 187,
    "start_time": "2024-02-22T09:00:38.231Z"
   },
   {
    "duration": 221,
    "start_time": "2024-02-22T09:01:25.914Z"
   },
   {
    "duration": 206,
    "start_time": "2024-02-22T09:01:41.139Z"
   },
   {
    "duration": 579,
    "start_time": "2024-02-22T09:04:54.341Z"
   },
   {
    "duration": 9,
    "start_time": "2024-02-22T09:04:56.509Z"
   },
   {
    "duration": 6,
    "start_time": "2024-02-22T09:08:16.742Z"
   },
   {
    "duration": 9,
    "start_time": "2024-02-22T09:08:48.732Z"
   },
   {
    "duration": 454,
    "start_time": "2024-02-22T09:08:58.413Z"
   },
   {
    "duration": 9,
    "start_time": "2024-02-22T09:09:03.774Z"
   },
   {
    "duration": 9,
    "start_time": "2024-02-22T09:09:05.168Z"
   },
   {
    "duration": 8,
    "start_time": "2024-02-22T09:09:12.679Z"
   },
   {
    "duration": 5,
    "start_time": "2024-02-22T09:09:31.139Z"
   },
   {
    "duration": 6,
    "start_time": "2024-02-22T09:09:32.148Z"
   },
   {
    "duration": 374,
    "start_time": "2024-02-22T09:09:39.389Z"
   },
   {
    "duration": 277,
    "start_time": "2024-02-22T09:09:44.978Z"
   },
   {
    "duration": 573,
    "start_time": "2024-02-22T09:09:47.670Z"
   },
   {
    "duration": 210,
    "start_time": "2024-02-22T09:10:34.729Z"
   },
   {
    "duration": 207,
    "start_time": "2024-02-22T09:10:35.301Z"
   },
   {
    "duration": 597,
    "start_time": "2024-02-22T09:10:35.910Z"
   },
   {
    "duration": 371,
    "start_time": "2024-02-22T09:11:11.818Z"
   },
   {
    "duration": 8,
    "start_time": "2024-02-22T09:11:31.216Z"
   },
   {
    "duration": 365,
    "start_time": "2024-02-22T09:11:39.650Z"
   },
   {
    "duration": 8,
    "start_time": "2024-02-22T09:11:45.974Z"
   },
   {
    "duration": 285,
    "start_time": "2024-02-22T09:12:12.628Z"
   },
   {
    "duration": 29,
    "start_time": "2024-02-22T09:13:56.313Z"
   },
   {
    "duration": 10,
    "start_time": "2024-02-22T09:14:43.987Z"
   },
   {
    "duration": 9,
    "start_time": "2024-02-22T09:14:47.068Z"
   },
   {
    "duration": 31,
    "start_time": "2024-02-22T09:16:30.812Z"
   },
   {
    "duration": 19,
    "start_time": "2024-02-22T09:17:15.583Z"
   },
   {
    "duration": 10,
    "start_time": "2024-02-22T09:17:44.678Z"
   },
   {
    "duration": 9,
    "start_time": "2024-02-22T09:21:32.993Z"
   },
   {
    "duration": 6,
    "start_time": "2024-02-22T09:22:28.775Z"
   },
   {
    "duration": 10,
    "start_time": "2024-02-22T09:23:00.923Z"
   },
   {
    "duration": 13,
    "start_time": "2024-02-22T09:23:34.466Z"
   },
   {
    "duration": 930,
    "start_time": "2024-02-22T09:24:06.935Z"
   },
   {
    "duration": 9,
    "start_time": "2024-02-22T09:24:40.574Z"
   },
   {
    "duration": 9,
    "start_time": "2024-02-22T09:34:13.780Z"
   },
   {
    "duration": 5,
    "start_time": "2024-02-22T09:34:50.897Z"
   },
   {
    "duration": 4,
    "start_time": "2024-02-22T09:35:32.486Z"
   },
   {
    "duration": 12,
    "start_time": "2024-02-22T09:38:12.269Z"
   },
   {
    "duration": 11,
    "start_time": "2024-02-22T09:38:30.219Z"
   },
   {
    "duration": 5,
    "start_time": "2024-02-22T10:38:33.364Z"
   },
   {
    "duration": 11,
    "start_time": "2024-02-22T10:38:33.825Z"
   },
   {
    "duration": 27,
    "start_time": "2024-02-22T10:38:34.539Z"
   },
   {
    "duration": 9,
    "start_time": "2024-02-22T10:38:34.836Z"
   },
   {
    "duration": 14,
    "start_time": "2024-02-22T10:38:35.041Z"
   },
   {
    "duration": 10,
    "start_time": "2024-02-22T10:38:35.290Z"
   },
   {
    "duration": 494,
    "start_time": "2024-02-22T10:38:35.581Z"
   },
   {
    "duration": 5,
    "start_time": "2024-02-22T10:38:36.077Z"
   },
   {
    "duration": 6,
    "start_time": "2024-02-22T10:38:36.885Z"
   },
   {
    "duration": 5,
    "start_time": "2024-02-22T10:38:37.658Z"
   },
   {
    "duration": 6,
    "start_time": "2024-02-22T10:38:38.138Z"
   },
   {
    "duration": 4,
    "start_time": "2024-02-22T10:38:38.624Z"
   },
   {
    "duration": 7,
    "start_time": "2024-02-22T10:38:38.882Z"
   },
   {
    "duration": 5,
    "start_time": "2024-02-22T10:38:39.121Z"
   },
   {
    "duration": 37,
    "start_time": "2024-02-22T10:38:39.912Z"
   },
   {
    "duration": 11,
    "start_time": "2024-02-22T10:38:40.209Z"
   },
   {
    "duration": 17,
    "start_time": "2024-02-22T10:38:40.476Z"
   },
   {
    "duration": 8,
    "start_time": "2024-02-22T10:38:40.729Z"
   },
   {
    "duration": 514,
    "start_time": "2024-02-22T10:38:40.971Z"
   },
   {
    "duration": 25,
    "start_time": "2024-02-22T10:38:41.902Z"
   },
   {
    "duration": 15,
    "start_time": "2024-02-22T10:38:42.080Z"
   },
   {
    "duration": 11,
    "start_time": "2024-02-22T10:38:42.390Z"
   },
   {
    "duration": 8,
    "start_time": "2024-02-22T10:38:42.631Z"
   },
   {
    "duration": 6,
    "start_time": "2024-02-22T10:38:42.926Z"
   },
   {
    "duration": 12,
    "start_time": "2024-02-22T10:38:44.036Z"
   },
   {
    "duration": 10,
    "start_time": "2024-02-22T10:38:44.339Z"
   },
   {
    "duration": 7,
    "start_time": "2024-02-22T10:38:44.603Z"
   },
   {
    "duration": 7,
    "start_time": "2024-02-22T10:38:45.154Z"
   },
   {
    "duration": 8,
    "start_time": "2024-02-22T10:38:45.408Z"
   },
   {
    "duration": 8,
    "start_time": "2024-02-22T10:38:45.958Z"
   },
   {
    "duration": 5,
    "start_time": "2024-02-22T10:38:46.226Z"
   },
   {
    "duration": 7,
    "start_time": "2024-02-22T10:38:46.511Z"
   },
   {
    "duration": 24,
    "start_time": "2024-02-22T10:38:46.829Z"
   },
   {
    "duration": 7,
    "start_time": "2024-02-22T10:38:47.584Z"
   },
   {
    "duration": 272,
    "start_time": "2024-02-22T10:38:47.929Z"
   },
   {
    "duration": 14,
    "start_time": "2024-02-22T10:38:49.446Z"
   },
   {
    "duration": 3,
    "start_time": "2024-02-22T10:38:51.081Z"
   },
   {
    "duration": 5,
    "start_time": "2024-02-22T10:38:51.334Z"
   },
   {
    "duration": 5,
    "start_time": "2024-02-22T10:38:51.574Z"
   },
   {
    "duration": 4,
    "start_time": "2024-02-22T10:38:51.814Z"
   },
   {
    "duration": 147,
    "start_time": "2024-02-22T10:38:52.090Z"
   },
   {
    "duration": 4,
    "start_time": "2024-02-22T10:38:53.883Z"
   },
   {
    "duration": 5,
    "start_time": "2024-02-22T10:38:54.334Z"
   },
   {
    "duration": 86,
    "start_time": "2024-02-22T10:38:54.929Z"
   },
   {
    "duration": 202,
    "start_time": "2024-02-22T10:38:56.816Z"
   },
   {
    "duration": 6,
    "start_time": "2024-02-22T10:38:57.887Z"
   },
   {
    "duration": 6,
    "start_time": "2024-02-22T10:39:22.702Z"
   },
   {
    "duration": 240,
    "start_time": "2024-02-22T10:39:23.795Z"
   },
   {
    "duration": 10,
    "start_time": "2024-02-22T10:39:24.754Z"
   },
   {
    "duration": 11,
    "start_time": "2024-02-22T10:39:25.606Z"
   },
   {
    "duration": 216,
    "start_time": "2024-02-22T10:39:26.000Z"
   },
   {
    "duration": 215,
    "start_time": "2024-02-22T10:39:31.567Z"
   },
   {
    "duration": 9,
    "start_time": "2024-02-22T10:39:32.587Z"
   },
   {
    "duration": 6,
    "start_time": "2024-02-22T10:39:33.629Z"
   },
   {
    "duration": 20,
    "start_time": "2024-02-22T10:39:34.259Z"
   },
   {
    "duration": 272,
    "start_time": "2024-02-22T10:39:34.571Z"
   },
   {
    "duration": 16,
    "start_time": "2024-02-22T10:39:36.365Z"
   },
   {
    "duration": 14,
    "start_time": "2024-02-22T10:39:36.635Z"
   },
   {
    "duration": 15,
    "start_time": "2024-02-22T10:39:36.891Z"
   },
   {
    "duration": 4,
    "start_time": "2024-02-22T10:39:37.122Z"
   },
   {
    "duration": 7,
    "start_time": "2024-02-22T10:39:38.277Z"
   },
   {
    "duration": 11,
    "start_time": "2024-02-22T10:39:49.844Z"
   },
   {
    "duration": 12,
    "start_time": "2024-02-22T10:39:50.410Z"
   },
   {
    "duration": 5,
    "start_time": "2024-02-22T10:39:51.331Z"
   },
   {
    "duration": 11,
    "start_time": "2024-02-22T10:39:51.594Z"
   },
   {
    "duration": 11,
    "start_time": "2024-02-22T10:39:51.931Z"
   },
   {
    "duration": 5,
    "start_time": "2024-02-22T10:39:52.653Z"
   },
   {
    "duration": 5,
    "start_time": "2024-02-22T10:39:53.137Z"
   },
   {
    "duration": 191,
    "start_time": "2024-02-22T10:39:53.897Z"
   },
   {
    "duration": 207,
    "start_time": "2024-02-22T10:39:54.474Z"
   },
   {
    "duration": 526,
    "start_time": "2024-02-22T10:39:55.239Z"
   },
   {
    "duration": 195,
    "start_time": "2024-02-22T10:39:58.638Z"
   },
   {
    "duration": 196,
    "start_time": "2024-02-22T10:39:59.953Z"
   },
   {
    "duration": 687,
    "start_time": "2024-02-22T10:40:00.724Z"
   },
   {
    "duration": 352,
    "start_time": "2024-02-22T10:40:02.579Z"
   },
   {
    "duration": 276,
    "start_time": "2024-02-22T10:40:06.639Z"
   },
   {
    "duration": 48,
    "start_time": "2024-02-22T11:02:11.268Z"
   },
   {
    "duration": 13,
    "start_time": "2024-02-22T11:03:59.966Z"
   },
   {
    "duration": 43,
    "start_time": "2024-02-22T11:04:00.380Z"
   },
   {
    "duration": 5,
    "start_time": "2024-02-22T11:04:01.193Z"
   },
   {
    "duration": 6,
    "start_time": "2024-02-22T11:04:01.491Z"
   },
   {
    "duration": 490,
    "start_time": "2024-02-22T11:04:02.120Z"
   },
   {
    "duration": 270,
    "start_time": "2024-02-22T11:04:03.237Z"
   },
   {
    "duration": 485,
    "start_time": "2024-02-22T11:04:04.215Z"
   },
   {
    "duration": 405,
    "start_time": "2024-02-22T11:04:04.838Z"
   },
   {
    "duration": 398,
    "start_time": "2024-02-22T11:04:05.567Z"
   },
   {
    "duration": 30,
    "start_time": "2024-02-22T11:04:08.119Z"
   },
   {
    "duration": 22,
    "start_time": "2024-02-22T11:04:09.035Z"
   },
   {
    "duration": 9,
    "start_time": "2024-02-22T11:04:10.672Z"
   },
   {
    "duration": 5,
    "start_time": "2024-02-22T11:04:13.590Z"
   },
   {
    "duration": 976,
    "start_time": "2024-02-22T11:04:13.859Z"
   },
   {
    "duration": 6,
    "start_time": "2024-02-22T11:04:15.476Z"
   },
   {
    "duration": 5,
    "start_time": "2024-02-22T11:04:15.819Z"
   },
   {
    "duration": 11,
    "start_time": "2024-02-22T11:04:16.849Z"
   },
   {
    "duration": 9,
    "start_time": "2024-02-22T11:04:17.098Z"
   },
   {
    "duration": 1411,
    "start_time": "2024-02-22T12:10:26.849Z"
   },
   {
    "duration": 11,
    "start_time": "2024-02-22T12:10:28.262Z"
   },
   {
    "duration": 75,
    "start_time": "2024-02-22T12:10:28.275Z"
   },
   {
    "duration": 10,
    "start_time": "2024-02-22T12:10:28.352Z"
   },
   {
    "duration": 29,
    "start_time": "2024-02-22T12:10:28.363Z"
   },
   {
    "duration": 32,
    "start_time": "2024-02-22T12:10:28.394Z"
   },
   {
    "duration": 793,
    "start_time": "2024-02-22T12:10:28.427Z"
   },
   {
    "duration": 5,
    "start_time": "2024-02-22T12:10:29.221Z"
   },
   {
    "duration": 6,
    "start_time": "2024-02-22T12:10:29.227Z"
   },
   {
    "duration": 15,
    "start_time": "2024-02-22T12:10:29.235Z"
   },
   {
    "duration": 5,
    "start_time": "2024-02-22T12:10:29.252Z"
   },
   {
    "duration": 7,
    "start_time": "2024-02-22T12:10:29.258Z"
   },
   {
    "duration": 58,
    "start_time": "2024-02-22T12:10:29.266Z"
   },
   {
    "duration": 5,
    "start_time": "2024-02-22T12:10:29.325Z"
   },
   {
    "duration": 104,
    "start_time": "2024-02-22T12:10:29.331Z"
   },
   {
    "duration": 10,
    "start_time": "2024-02-22T12:10:29.437Z"
   },
   {
    "duration": 70,
    "start_time": "2024-02-22T12:10:29.448Z"
   },
   {
    "duration": 9,
    "start_time": "2024-02-22T12:10:29.520Z"
   },
   {
    "duration": 572,
    "start_time": "2024-02-22T12:10:29.530Z"
   },
   {
    "duration": 49,
    "start_time": "2024-02-22T12:10:30.104Z"
   },
   {
    "duration": 15,
    "start_time": "2024-02-22T12:10:30.155Z"
   },
   {
    "duration": 71,
    "start_time": "2024-02-22T12:10:30.171Z"
   },
   {
    "duration": 76,
    "start_time": "2024-02-22T12:10:30.244Z"
   },
   {
    "duration": 50,
    "start_time": "2024-02-22T12:10:30.322Z"
   },
   {
    "duration": 65,
    "start_time": "2024-02-22T12:10:30.373Z"
   },
   {
    "duration": 61,
    "start_time": "2024-02-22T12:10:30.440Z"
   },
   {
    "duration": 49,
    "start_time": "2024-02-22T12:10:30.503Z"
   },
   {
    "duration": 158,
    "start_time": "2024-02-22T12:10:30.557Z"
   },
   {
    "duration": 163,
    "start_time": "2024-02-22T12:10:30.717Z"
   },
   {
    "duration": 86,
    "start_time": "2024-02-22T12:10:30.882Z"
   },
   {
    "duration": 59,
    "start_time": "2024-02-22T12:10:30.969Z"
   },
   {
    "duration": 34,
    "start_time": "2024-02-22T12:10:31.030Z"
   },
   {
    "duration": 61,
    "start_time": "2024-02-22T12:10:31.066Z"
   },
   {
    "duration": 58,
    "start_time": "2024-02-22T12:10:31.129Z"
   },
   {
    "duration": 674,
    "start_time": "2024-02-22T12:10:31.189Z"
   },
   {
    "duration": 13,
    "start_time": "2024-02-22T12:10:31.864Z"
   },
   {
    "duration": 59,
    "start_time": "2024-02-22T12:10:31.879Z"
   },
   {
    "duration": 116,
    "start_time": "2024-02-22T12:10:31.939Z"
   },
   {
    "duration": 36,
    "start_time": "2024-02-22T12:10:32.057Z"
   },
   {
    "duration": 18,
    "start_time": "2024-02-22T12:10:32.095Z"
   },
   {
    "duration": 205,
    "start_time": "2024-02-22T12:10:32.114Z"
   },
   {
    "duration": 4,
    "start_time": "2024-02-22T12:10:32.321Z"
   },
   {
    "duration": 9,
    "start_time": "2024-02-22T12:10:32.326Z"
   },
   {
    "duration": 91,
    "start_time": "2024-02-22T12:10:32.336Z"
   },
   {
    "duration": 188,
    "start_time": "2024-02-22T12:10:32.429Z"
   },
   {
    "duration": 6,
    "start_time": "2024-02-22T12:10:32.619Z"
   },
   {
    "duration": 15,
    "start_time": "2024-02-22T12:10:32.626Z"
   },
   {
    "duration": 270,
    "start_time": "2024-02-22T12:10:32.643Z"
   },
   {
    "duration": 7,
    "start_time": "2024-02-22T12:10:32.917Z"
   },
   {
    "duration": 12,
    "start_time": "2024-02-22T12:10:32.925Z"
   },
   {
    "duration": 219,
    "start_time": "2024-02-22T12:10:32.939Z"
   },
   {
    "duration": 187,
    "start_time": "2024-02-22T12:10:33.160Z"
   },
   {
    "duration": 7,
    "start_time": "2024-02-22T12:10:33.348Z"
   },
   {
    "duration": 8,
    "start_time": "2024-02-22T12:10:33.356Z"
   },
   {
    "duration": 13,
    "start_time": "2024-02-22T12:10:33.366Z"
   },
   {
    "duration": 185,
    "start_time": "2024-02-22T12:10:33.380Z"
   },
   {
    "duration": 16,
    "start_time": "2024-02-22T12:10:33.567Z"
   },
   {
    "duration": 13,
    "start_time": "2024-02-22T12:10:33.585Z"
   },
   {
    "duration": 32,
    "start_time": "2024-02-22T12:10:33.600Z"
   },
   {
    "duration": 5,
    "start_time": "2024-02-22T12:10:33.634Z"
   },
   {
    "duration": 11,
    "start_time": "2024-02-22T12:10:33.640Z"
   },
   {
    "duration": 13,
    "start_time": "2024-02-22T12:10:33.652Z"
   },
   {
    "duration": 16,
    "start_time": "2024-02-22T12:10:33.666Z"
   },
   {
    "duration": 38,
    "start_time": "2024-02-22T12:10:33.684Z"
   },
   {
    "duration": 15,
    "start_time": "2024-02-22T12:10:33.723Z"
   },
   {
    "duration": 12,
    "start_time": "2024-02-22T12:10:33.739Z"
   },
   {
    "duration": 44,
    "start_time": "2024-02-22T12:10:33.752Z"
   },
   {
    "duration": 6,
    "start_time": "2024-02-22T12:10:33.817Z"
   },
   {
    "duration": 28,
    "start_time": "2024-02-22T12:10:33.824Z"
   },
   {
    "duration": 526,
    "start_time": "2024-02-22T12:10:33.854Z"
   },
   {
    "duration": 249,
    "start_time": "2024-02-22T12:10:34.381Z"
   },
   {
    "duration": 443,
    "start_time": "2024-02-22T12:10:34.631Z"
   },
   {
    "duration": 443,
    "start_time": "2024-02-22T12:10:35.075Z"
   },
   {
    "duration": 275,
    "start_time": "2024-02-22T12:10:35.520Z"
   },
   {
    "duration": 40,
    "start_time": "2024-02-22T12:10:35.797Z"
   },
   {
    "duration": 16,
    "start_time": "2024-02-22T12:10:35.839Z"
   },
   {
    "duration": 7,
    "start_time": "2024-02-22T12:10:35.856Z"
   },
   {
    "duration": 11,
    "start_time": "2024-02-22T12:10:35.864Z"
   },
   {
    "duration": 908,
    "start_time": "2024-02-22T12:10:35.876Z"
   },
   {
    "duration": 5,
    "start_time": "2024-02-22T12:10:36.785Z"
   },
   {
    "duration": 8,
    "start_time": "2024-02-22T12:10:36.792Z"
   },
   {
    "duration": 10,
    "start_time": "2024-02-22T12:10:36.817Z"
   },
   {
    "duration": 7,
    "start_time": "2024-02-22T12:10:36.829Z"
   },
   {
    "duration": 48,
    "start_time": "2024-02-22T14:06:42.944Z"
   },
   {
    "duration": 6,
    "start_time": "2024-02-22T14:07:35.734Z"
   },
   {
    "duration": 5,
    "start_time": "2024-02-22T14:07:52.524Z"
   },
   {
    "duration": 1337,
    "start_time": "2024-02-22T14:08:46.244Z"
   },
   {
    "duration": 12,
    "start_time": "2024-02-22T14:08:47.583Z"
   },
   {
    "duration": 72,
    "start_time": "2024-02-22T14:08:47.596Z"
   },
   {
    "duration": 10,
    "start_time": "2024-02-22T14:08:47.669Z"
   },
   {
    "duration": 24,
    "start_time": "2024-02-22T14:08:47.681Z"
   },
   {
    "duration": 8,
    "start_time": "2024-02-22T14:08:47.707Z"
   },
   {
    "duration": 389,
    "start_time": "2024-02-22T14:08:47.717Z"
   },
   {
    "duration": 5,
    "start_time": "2024-02-22T14:08:48.107Z"
   },
   {
    "duration": 10,
    "start_time": "2024-02-22T14:08:48.113Z"
   },
   {
    "duration": 11,
    "start_time": "2024-02-22T14:08:48.125Z"
   },
   {
    "duration": 26,
    "start_time": "2024-02-22T14:08:48.137Z"
   },
   {
    "duration": 5,
    "start_time": "2024-02-22T14:08:48.164Z"
   },
   {
    "duration": 7,
    "start_time": "2024-02-22T14:08:48.170Z"
   },
   {
    "duration": 7,
    "start_time": "2024-02-22T14:08:48.178Z"
   },
   {
    "duration": 65,
    "start_time": "2024-02-22T14:08:48.187Z"
   },
   {
    "duration": 10,
    "start_time": "2024-02-22T14:08:48.254Z"
   },
   {
    "duration": 23,
    "start_time": "2024-02-22T14:08:48.265Z"
   },
   {
    "duration": 8,
    "start_time": "2024-02-22T14:08:48.289Z"
   },
   {
    "duration": 480,
    "start_time": "2024-02-22T14:08:48.299Z"
   },
   {
    "duration": 60,
    "start_time": "2024-02-22T14:08:48.780Z"
   },
   {
    "duration": 14,
    "start_time": "2024-02-22T14:08:48.841Z"
   },
   {
    "duration": 8,
    "start_time": "2024-02-22T14:08:48.857Z"
   },
   {
    "duration": 12,
    "start_time": "2024-02-22T14:08:48.867Z"
   },
   {
    "duration": 6,
    "start_time": "2024-02-22T14:08:48.880Z"
   },
   {
    "duration": 14,
    "start_time": "2024-02-22T14:08:48.887Z"
   },
   {
    "duration": 7,
    "start_time": "2024-02-22T14:08:48.902Z"
   },
   {
    "duration": 25,
    "start_time": "2024-02-22T14:08:48.910Z"
   },
   {
    "duration": 13,
    "start_time": "2024-02-22T14:08:48.939Z"
   },
   {
    "duration": 11,
    "start_time": "2024-02-22T14:08:48.954Z"
   },
   {
    "duration": 14,
    "start_time": "2024-02-22T14:08:48.966Z"
   },
   {
    "duration": 10,
    "start_time": "2024-02-22T14:08:48.981Z"
   },
   {
    "duration": 20,
    "start_time": "2024-02-22T14:08:48.992Z"
   },
   {
    "duration": 22,
    "start_time": "2024-02-22T14:08:49.014Z"
   },
   {
    "duration": 4,
    "start_time": "2024-02-22T14:08:49.038Z"
   },
   {
    "duration": 316,
    "start_time": "2024-02-22T14:08:49.043Z"
   },
   {
    "duration": 13,
    "start_time": "2024-02-22T14:08:49.360Z"
   },
   {
    "duration": 6,
    "start_time": "2024-02-22T14:08:49.374Z"
   },
   {
    "duration": 8,
    "start_time": "2024-02-22T14:08:49.381Z"
   },
   {
    "duration": 7,
    "start_time": "2024-02-22T14:08:49.390Z"
   },
   {
    "duration": 6,
    "start_time": "2024-02-22T14:08:49.398Z"
   },
   {
    "duration": 211,
    "start_time": "2024-02-22T14:08:49.405Z"
   },
   {
    "duration": 15,
    "start_time": "2024-02-22T14:08:49.618Z"
   },
   {
    "duration": 4,
    "start_time": "2024-02-22T14:08:49.634Z"
   },
   {
    "duration": 97,
    "start_time": "2024-02-22T14:08:49.640Z"
   },
   {
    "duration": 196,
    "start_time": "2024-02-22T14:08:49.739Z"
   },
   {
    "duration": 5,
    "start_time": "2024-02-22T14:08:49.936Z"
   },
   {
    "duration": 5,
    "start_time": "2024-02-22T14:08:49.943Z"
   },
   {
    "duration": 185,
    "start_time": "2024-02-22T14:08:49.950Z"
   },
   {
    "duration": 6,
    "start_time": "2024-02-22T14:08:50.137Z"
   },
   {
    "duration": 9,
    "start_time": "2024-02-22T14:08:50.145Z"
   },
   {
    "duration": 210,
    "start_time": "2024-02-22T14:08:50.155Z"
   },
   {
    "duration": 182,
    "start_time": "2024-02-22T14:08:50.366Z"
   },
   {
    "duration": 6,
    "start_time": "2024-02-22T14:08:50.550Z"
   },
   {
    "duration": 17,
    "start_time": "2024-02-22T14:08:50.557Z"
   },
   {
    "duration": 22,
    "start_time": "2024-02-22T14:08:50.575Z"
   },
   {
    "duration": 173,
    "start_time": "2024-02-22T14:08:50.598Z"
   },
   {
    "duration": 15,
    "start_time": "2024-02-22T14:08:50.773Z"
   },
   {
    "duration": 12,
    "start_time": "2024-02-22T14:08:50.789Z"
   },
   {
    "duration": 18,
    "start_time": "2024-02-22T14:08:50.802Z"
   },
   {
    "duration": 3,
    "start_time": "2024-02-22T14:08:50.833Z"
   },
   {
    "duration": 19,
    "start_time": "2024-02-22T14:08:50.838Z"
   },
   {
    "duration": 28,
    "start_time": "2024-02-22T14:08:50.859Z"
   },
   {
    "duration": 30,
    "start_time": "2024-02-22T14:08:50.888Z"
   },
   {
    "duration": 17,
    "start_time": "2024-02-22T14:08:50.920Z"
   },
   {
    "duration": 25,
    "start_time": "2024-02-22T14:08:50.940Z"
   },
   {
    "duration": 30,
    "start_time": "2024-02-22T14:08:50.967Z"
   },
   {
    "duration": 63,
    "start_time": "2024-02-22T14:08:50.999Z"
   },
   {
    "duration": 5,
    "start_time": "2024-02-22T14:08:51.064Z"
   },
   {
    "duration": 14,
    "start_time": "2024-02-22T14:08:51.070Z"
   },
   {
    "duration": 528,
    "start_time": "2024-02-22T14:08:51.085Z"
   },
   {
    "duration": 274,
    "start_time": "2024-02-22T14:08:51.614Z"
   },
   {
    "duration": 444,
    "start_time": "2024-02-22T14:08:51.889Z"
   },
   {
    "duration": 432,
    "start_time": "2024-02-22T14:08:52.335Z"
   },
   {
    "duration": 256,
    "start_time": "2024-02-22T14:08:52.768Z"
   },
   {
    "duration": 31,
    "start_time": "2024-02-22T14:08:53.025Z"
   },
   {
    "duration": 38,
    "start_time": "2024-02-22T14:08:53.057Z"
   },
   {
    "duration": 101,
    "start_time": "2024-02-22T14:08:53.097Z"
   },
   {
    "duration": 0,
    "start_time": "2024-02-22T14:08:53.200Z"
   },
   {
    "duration": 0,
    "start_time": "2024-02-22T14:08:53.201Z"
   },
   {
    "duration": 0,
    "start_time": "2024-02-22T14:08:53.202Z"
   },
   {
    "duration": 0,
    "start_time": "2024-02-22T14:08:53.203Z"
   },
   {
    "duration": 0,
    "start_time": "2024-02-22T14:08:53.204Z"
   },
   {
    "duration": 0,
    "start_time": "2024-02-22T14:08:53.205Z"
   },
   {
    "duration": 0,
    "start_time": "2024-02-22T14:08:53.207Z"
   },
   {
    "duration": 5,
    "start_time": "2024-02-22T14:09:19.209Z"
   },
   {
    "duration": 9,
    "start_time": "2024-02-22T14:09:19.823Z"
   },
   {
    "duration": 27,
    "start_time": "2024-02-22T14:09:20.446Z"
   },
   {
    "duration": 12,
    "start_time": "2024-02-22T14:09:21.681Z"
   },
   {
    "duration": 14,
    "start_time": "2024-02-22T14:09:21.927Z"
   },
   {
    "duration": 1178,
    "start_time": "2024-02-22T14:09:52.819Z"
   },
   {
    "duration": 11,
    "start_time": "2024-02-22T14:09:53.999Z"
   },
   {
    "duration": 43,
    "start_time": "2024-02-22T14:09:54.011Z"
   },
   {
    "duration": 10,
    "start_time": "2024-02-22T14:09:54.055Z"
   },
   {
    "duration": 38,
    "start_time": "2024-02-22T14:09:54.067Z"
   },
   {
    "duration": 15,
    "start_time": "2024-02-22T14:09:54.106Z"
   },
   {
    "duration": 366,
    "start_time": "2024-02-22T14:09:54.122Z"
   },
   {
    "duration": 5,
    "start_time": "2024-02-22T14:09:54.489Z"
   },
   {
    "duration": 13,
    "start_time": "2024-02-22T14:09:54.495Z"
   },
   {
    "duration": 9,
    "start_time": "2024-02-22T14:09:54.510Z"
   },
   {
    "duration": 7,
    "start_time": "2024-02-22T14:09:54.520Z"
   },
   {
    "duration": 4,
    "start_time": "2024-02-22T14:09:54.533Z"
   },
   {
    "duration": 5,
    "start_time": "2024-02-22T14:09:54.538Z"
   },
   {
    "duration": 4,
    "start_time": "2024-02-22T14:09:54.546Z"
   },
   {
    "duration": 32,
    "start_time": "2024-02-22T14:09:54.552Z"
   },
   {
    "duration": 11,
    "start_time": "2024-02-22T14:09:54.585Z"
   },
   {
    "duration": 32,
    "start_time": "2024-02-22T14:09:54.597Z"
   },
   {
    "duration": 8,
    "start_time": "2024-02-22T14:09:54.630Z"
   },
   {
    "duration": 465,
    "start_time": "2024-02-22T14:09:54.639Z"
   },
   {
    "duration": 25,
    "start_time": "2024-02-22T14:09:55.105Z"
   },
   {
    "duration": 14,
    "start_time": "2024-02-22T14:09:55.131Z"
   },
   {
    "duration": 61,
    "start_time": "2024-02-22T14:09:55.146Z"
   },
   {
    "duration": 13,
    "start_time": "2024-02-22T14:09:55.209Z"
   },
   {
    "duration": 6,
    "start_time": "2024-02-22T14:09:55.223Z"
   },
   {
    "duration": 28,
    "start_time": "2024-02-22T14:09:55.230Z"
   },
   {
    "duration": 9,
    "start_time": "2024-02-22T14:09:55.260Z"
   },
   {
    "duration": 8,
    "start_time": "2024-02-22T14:09:55.270Z"
   },
   {
    "duration": 49,
    "start_time": "2024-02-22T14:09:55.279Z"
   },
   {
    "duration": 27,
    "start_time": "2024-02-22T14:09:55.330Z"
   },
   {
    "duration": 19,
    "start_time": "2024-02-22T14:09:55.359Z"
   },
   {
    "duration": 4,
    "start_time": "2024-02-22T14:09:55.379Z"
   },
   {
    "duration": 13,
    "start_time": "2024-02-22T14:09:55.385Z"
   },
   {
    "duration": 21,
    "start_time": "2024-02-22T14:09:55.399Z"
   },
   {
    "duration": 4,
    "start_time": "2024-02-22T14:09:55.421Z"
   },
   {
    "duration": 317,
    "start_time": "2024-02-22T14:09:55.427Z"
   },
   {
    "duration": 14,
    "start_time": "2024-02-22T14:09:55.745Z"
   },
   {
    "duration": 11,
    "start_time": "2024-02-22T14:09:55.761Z"
   },
   {
    "duration": 13,
    "start_time": "2024-02-22T14:09:55.773Z"
   },
   {
    "duration": 6,
    "start_time": "2024-02-22T14:09:55.787Z"
   },
   {
    "duration": 7,
    "start_time": "2024-02-22T14:09:55.794Z"
   },
   {
    "duration": 209,
    "start_time": "2024-02-22T14:09:55.807Z"
   },
   {
    "duration": 15,
    "start_time": "2024-02-22T14:09:56.018Z"
   },
   {
    "duration": 7,
    "start_time": "2024-02-22T14:09:56.035Z"
   },
   {
    "duration": 92,
    "start_time": "2024-02-22T14:09:56.044Z"
   },
   {
    "duration": 165,
    "start_time": "2024-02-22T14:09:56.137Z"
   },
   {
    "duration": 5,
    "start_time": "2024-02-22T14:09:56.303Z"
   },
   {
    "duration": 18,
    "start_time": "2024-02-22T14:09:56.310Z"
   },
   {
    "duration": 197,
    "start_time": "2024-02-22T14:09:56.329Z"
   },
   {
    "duration": 11,
    "start_time": "2024-02-22T14:09:56.528Z"
   },
   {
    "duration": 7,
    "start_time": "2024-02-22T14:09:56.541Z"
   },
   {
    "duration": 227,
    "start_time": "2024-02-22T14:09:56.550Z"
   },
   {
    "duration": 196,
    "start_time": "2024-02-22T14:09:56.779Z"
   },
   {
    "duration": 8,
    "start_time": "2024-02-22T14:09:56.976Z"
   },
   {
    "duration": 7,
    "start_time": "2024-02-22T14:09:56.985Z"
   },
   {
    "duration": 12,
    "start_time": "2024-02-22T14:09:56.994Z"
   },
   {
    "duration": 178,
    "start_time": "2024-02-22T14:09:57.008Z"
   },
   {
    "duration": 17,
    "start_time": "2024-02-22T14:09:57.187Z"
   },
   {
    "duration": 30,
    "start_time": "2024-02-22T14:09:57.206Z"
   },
   {
    "duration": 13,
    "start_time": "2024-02-22T14:09:57.238Z"
   },
   {
    "duration": 13,
    "start_time": "2024-02-22T14:09:57.252Z"
   },
   {
    "duration": 17,
    "start_time": "2024-02-22T14:09:57.267Z"
   },
   {
    "duration": 29,
    "start_time": "2024-02-22T14:09:57.285Z"
   },
   {
    "duration": 14,
    "start_time": "2024-02-22T14:09:57.316Z"
   },
   {
    "duration": 6,
    "start_time": "2024-02-22T14:09:57.332Z"
   },
   {
    "duration": 22,
    "start_time": "2024-02-22T14:09:57.339Z"
   },
   {
    "duration": 23,
    "start_time": "2024-02-22T14:09:57.362Z"
   },
   {
    "duration": 44,
    "start_time": "2024-02-22T14:09:57.386Z"
   },
   {
    "duration": 5,
    "start_time": "2024-02-22T14:09:57.433Z"
   },
   {
    "duration": 20,
    "start_time": "2024-02-22T14:09:57.440Z"
   },
   {
    "duration": 455,
    "start_time": "2024-02-22T14:09:57.461Z"
   },
   {
    "duration": 347,
    "start_time": "2024-02-22T14:09:57.918Z"
   },
   {
    "duration": 455,
    "start_time": "2024-02-22T14:09:58.266Z"
   },
   {
    "duration": 341,
    "start_time": "2024-02-22T14:09:58.722Z"
   },
   {
    "duration": 339,
    "start_time": "2024-02-22T14:09:59.065Z"
   },
   {
    "duration": 39,
    "start_time": "2024-02-22T14:09:59.406Z"
   },
   {
    "duration": 16,
    "start_time": "2024-02-22T14:09:59.447Z"
   },
   {
    "duration": 103,
    "start_time": "2024-02-22T14:09:59.464Z"
   },
   {
    "duration": 0,
    "start_time": "2024-02-22T14:09:59.569Z"
   },
   {
    "duration": 0,
    "start_time": "2024-02-22T14:09:59.570Z"
   },
   {
    "duration": 0,
    "start_time": "2024-02-22T14:09:59.571Z"
   },
   {
    "duration": 0,
    "start_time": "2024-02-22T14:09:59.572Z"
   },
   {
    "duration": 0,
    "start_time": "2024-02-22T14:09:59.573Z"
   },
   {
    "duration": 0,
    "start_time": "2024-02-22T14:09:59.574Z"
   },
   {
    "duration": 0,
    "start_time": "2024-02-22T14:09:59.575Z"
   },
   {
    "duration": 6,
    "start_time": "2024-02-22T14:10:23.336Z"
   },
   {
    "duration": 12,
    "start_time": "2024-02-22T14:10:25.769Z"
   },
   {
    "duration": 25,
    "start_time": "2024-02-22T14:10:27.679Z"
   },
   {
    "duration": 9,
    "start_time": "2024-02-22T14:10:28.428Z"
   },
   {
    "duration": 13,
    "start_time": "2024-02-22T14:10:28.927Z"
   },
   {
    "duration": 10,
    "start_time": "2024-02-22T14:10:29.583Z"
   },
   {
    "duration": 360,
    "start_time": "2024-02-22T14:10:30.324Z"
   },
   {
    "duration": 5,
    "start_time": "2024-02-22T14:10:31.064Z"
   },
   {
    "duration": 5,
    "start_time": "2024-02-22T14:10:34.770Z"
   },
   {
    "duration": 4,
    "start_time": "2024-02-22T14:10:35.469Z"
   },
   {
    "duration": 5,
    "start_time": "2024-02-22T14:10:35.939Z"
   },
   {
    "duration": 5,
    "start_time": "2024-02-22T14:10:36.418Z"
   },
   {
    "duration": 6,
    "start_time": "2024-02-22T14:10:36.687Z"
   },
   {
    "duration": 5,
    "start_time": "2024-02-22T14:10:36.898Z"
   },
   {
    "duration": 36,
    "start_time": "2024-02-22T14:10:37.705Z"
   },
   {
    "duration": 10,
    "start_time": "2024-02-22T14:10:38.180Z"
   },
   {
    "duration": 17,
    "start_time": "2024-02-22T14:10:38.394Z"
   },
   {
    "duration": 8,
    "start_time": "2024-02-22T14:10:38.623Z"
   },
   {
    "duration": 477,
    "start_time": "2024-02-22T14:10:38.931Z"
   },
   {
    "duration": 24,
    "start_time": "2024-02-22T14:10:39.503Z"
   },
   {
    "duration": 24,
    "start_time": "2024-02-22T14:10:39.725Z"
   },
   {
    "duration": 9,
    "start_time": "2024-02-22T14:10:40.036Z"
   },
   {
    "duration": 7,
    "start_time": "2024-02-22T14:10:40.306Z"
   },
   {
    "duration": 6,
    "start_time": "2024-02-22T14:10:40.590Z"
   },
   {
    "duration": 13,
    "start_time": "2024-02-22T14:10:42.027Z"
   },
   {
    "duration": 9,
    "start_time": "2024-02-22T14:10:42.295Z"
   },
   {
    "duration": 6,
    "start_time": "2024-02-22T14:10:42.676Z"
   },
   {
    "duration": 6,
    "start_time": "2024-02-22T14:10:43.246Z"
   },
   {
    "duration": 7,
    "start_time": "2024-02-22T14:10:43.461Z"
   },
   {
    "duration": 7,
    "start_time": "2024-02-22T14:10:43.891Z"
   },
   {
    "duration": 5,
    "start_time": "2024-02-22T14:10:44.186Z"
   },
   {
    "duration": 7,
    "start_time": "2024-02-22T14:10:44.363Z"
   },
   {
    "duration": 17,
    "start_time": "2024-02-22T14:10:44.616Z"
   },
   {
    "duration": 5,
    "start_time": "2024-02-22T14:10:45.542Z"
   },
   {
    "duration": 286,
    "start_time": "2024-02-22T14:10:45.859Z"
   },
   {
    "duration": 13,
    "start_time": "2024-02-22T14:10:47.325Z"
   },
   {
    "duration": 3,
    "start_time": "2024-02-22T14:10:48.894Z"
   },
   {
    "duration": 5,
    "start_time": "2024-02-22T14:10:49.124Z"
   },
   {
    "duration": 5,
    "start_time": "2024-02-22T14:10:49.431Z"
   },
   {
    "duration": 4,
    "start_time": "2024-02-22T14:10:49.567Z"
   },
   {
    "duration": 147,
    "start_time": "2024-02-22T14:10:49.778Z"
   },
   {
    "duration": 4,
    "start_time": "2024-02-22T14:10:51.401Z"
   },
   {
    "duration": 4,
    "start_time": "2024-02-22T14:10:51.715Z"
   },
   {
    "duration": 80,
    "start_time": "2024-02-22T14:10:52.059Z"
   },
   {
    "duration": 150,
    "start_time": "2024-02-22T14:10:53.230Z"
   },
   {
    "duration": 5,
    "start_time": "2024-02-22T14:10:53.809Z"
   },
   {
    "duration": 5,
    "start_time": "2024-02-22T14:10:54.678Z"
   },
   {
    "duration": 260,
    "start_time": "2024-02-22T14:10:55.746Z"
   },
   {
    "duration": 6,
    "start_time": "2024-02-22T14:10:56.647Z"
   },
   {
    "duration": 7,
    "start_time": "2024-02-22T14:10:57.251Z"
   },
   {
    "duration": 197,
    "start_time": "2024-02-22T14:10:57.687Z"
   },
   {
    "duration": 177,
    "start_time": "2024-02-22T14:10:58.869Z"
   },
   {
    "duration": 6,
    "start_time": "2024-02-22T14:10:59.441Z"
   },
   {
    "duration": 7,
    "start_time": "2024-02-22T14:11:00.024Z"
   },
   {
    "duration": 12,
    "start_time": "2024-02-22T14:11:00.679Z"
   },
   {
    "duration": 161,
    "start_time": "2024-02-22T14:11:00.909Z"
   },
   {
    "duration": 14,
    "start_time": "2024-02-22T14:11:32.181Z"
   },
   {
    "duration": 13,
    "start_time": "2024-02-22T14:11:32.471Z"
   },
   {
    "duration": 16,
    "start_time": "2024-02-22T14:11:33.681Z"
   },
   {
    "duration": 4,
    "start_time": "2024-02-22T14:11:34.166Z"
   },
   {
    "duration": 5,
    "start_time": "2024-02-22T14:11:35.083Z"
   },
   {
    "duration": 10,
    "start_time": "2024-02-22T14:11:35.404Z"
   },
   {
    "duration": 18,
    "start_time": "2024-02-22T14:11:35.713Z"
   },
   {
    "duration": 5,
    "start_time": "2024-02-22T14:11:36.310Z"
   },
   {
    "duration": 11,
    "start_time": "2024-02-22T14:11:36.681Z"
   },
   {
    "duration": 11,
    "start_time": "2024-02-22T14:11:37.432Z"
   },
   {
    "duration": 46,
    "start_time": "2024-02-22T14:11:37.768Z"
   },
   {
    "duration": 5,
    "start_time": "2024-02-22T14:11:38.559Z"
   },
   {
    "duration": 5,
    "start_time": "2024-02-22T14:11:39.536Z"
   },
   {
    "duration": 339,
    "start_time": "2024-02-22T14:11:40.482Z"
   },
   {
    "duration": 252,
    "start_time": "2024-02-22T14:11:41.940Z"
   },
   {
    "duration": 550,
    "start_time": "2024-02-22T14:11:43.483Z"
   },
   {
    "duration": 356,
    "start_time": "2024-02-22T14:11:44.637Z"
   },
   {
    "duration": 237,
    "start_time": "2024-02-22T14:11:50.011Z"
   },
   {
    "duration": 26,
    "start_time": "2024-02-22T14:11:57.496Z"
   },
   {
    "duration": 22,
    "start_time": "2024-02-22T14:12:00.463Z"
   },
   {
    "duration": 8,
    "start_time": "2024-02-22T14:12:01.904Z"
   },
   {
    "duration": 6,
    "start_time": "2024-02-22T14:12:33.589Z"
   },
   {
    "duration": 6,
    "start_time": "2024-02-22T14:13:30.177Z"
   },
   {
    "duration": 17,
    "start_time": "2024-02-22T14:13:31.672Z"
   },
   {
    "duration": 8,
    "start_time": "2024-02-22T14:13:41.302Z"
   },
   {
    "duration": 8,
    "start_time": "2024-02-22T14:14:25.578Z"
   },
   {
    "duration": 847,
    "start_time": "2024-02-22T14:14:26.064Z"
   },
   {
    "duration": 5,
    "start_time": "2024-02-22T14:14:27.172Z"
   },
   {
    "duration": 5,
    "start_time": "2024-02-22T14:14:27.359Z"
   },
   {
    "duration": 9,
    "start_time": "2024-02-22T14:14:28.461Z"
   },
   {
    "duration": 7,
    "start_time": "2024-02-22T14:14:28.681Z"
   },
   {
    "duration": 65,
    "start_time": "2024-02-22T14:28:24.896Z"
   },
   {
    "duration": 11,
    "start_time": "2024-02-22T14:28:28.088Z"
   },
   {
    "duration": 10,
    "start_time": "2024-02-22T14:28:48.314Z"
   },
   {
    "duration": 78,
    "start_time": "2024-02-22T14:40:03.992Z"
   },
   {
    "duration": 61,
    "start_time": "2024-02-22T14:40:15.429Z"
   },
   {
    "duration": 3,
    "start_time": "2024-02-22T14:40:48.187Z"
   },
   {
    "duration": 3,
    "start_time": "2024-02-22T14:41:11.533Z"
   },
   {
    "duration": 3,
    "start_time": "2024-02-22T14:41:15.933Z"
   },
   {
    "duration": 253,
    "start_time": "2024-02-22T14:43:53.417Z"
   },
   {
    "duration": 129,
    "start_time": "2024-02-22T14:44:04.946Z"
   },
   {
    "duration": 135,
    "start_time": "2024-02-22T14:48:03.921Z"
   },
   {
    "duration": 251,
    "start_time": "2024-02-22T14:48:12.630Z"
   },
   {
    "duration": 119,
    "start_time": "2024-02-22T14:48:26.596Z"
   },
   {
    "duration": 133,
    "start_time": "2024-02-22T14:48:44.429Z"
   },
   {
    "duration": 131,
    "start_time": "2024-02-22T14:48:53.647Z"
   },
   {
    "duration": 120,
    "start_time": "2024-02-22T14:49:10.077Z"
   },
   {
    "duration": 150,
    "start_time": "2024-02-22T14:49:18.932Z"
   },
   {
    "duration": 151,
    "start_time": "2024-02-22T14:49:50.010Z"
   },
   {
    "duration": 146,
    "start_time": "2024-02-22T14:50:23.834Z"
   },
   {
    "duration": 67,
    "start_time": "2024-02-22T14:50:49.372Z"
   },
   {
    "duration": 177,
    "start_time": "2024-02-22T14:51:12.669Z"
   },
   {
    "duration": 241,
    "start_time": "2024-02-22T14:51:24.174Z"
   },
   {
    "duration": 133,
    "start_time": "2024-02-22T14:53:20.289Z"
   },
   {
    "duration": 139,
    "start_time": "2024-02-22T14:54:01.888Z"
   },
   {
    "duration": 135,
    "start_time": "2024-02-22T14:54:47.695Z"
   },
   {
    "duration": 129,
    "start_time": "2024-02-22T14:55:38.194Z"
   },
   {
    "duration": 122,
    "start_time": "2024-02-22T14:55:56.976Z"
   },
   {
    "duration": 77,
    "start_time": "2024-02-22T14:58:01.429Z"
   },
   {
    "duration": 129,
    "start_time": "2024-02-22T14:58:45.484Z"
   },
   {
    "duration": 134,
    "start_time": "2024-02-22T14:59:04.687Z"
   },
   {
    "duration": 10064,
    "start_time": "2024-02-22T15:00:39.877Z"
   },
   {
    "duration": 150,
    "start_time": "2024-02-22T15:00:49.943Z"
   },
   {
    "duration": 4,
    "start_time": "2024-02-22T15:00:50.929Z"
   },
   {
    "duration": 10344,
    "start_time": "2024-02-22T15:01:28.796Z"
   },
   {
    "duration": 10436,
    "start_time": "2024-02-22T15:01:50.711Z"
   },
   {
    "duration": 10470,
    "start_time": "2024-02-22T15:02:24.645Z"
   },
   {
    "duration": 10965,
    "start_time": "2024-02-22T15:04:04.354Z"
   },
   {
    "duration": 10267,
    "start_time": "2024-02-22T15:04:47.563Z"
   },
   {
    "duration": 10515,
    "start_time": "2024-02-22T15:05:30.290Z"
   },
   {
    "duration": 151,
    "start_time": "2024-02-22T15:08:32.538Z"
   },
   {
    "duration": 150,
    "start_time": "2024-02-22T15:08:58.121Z"
   },
   {
    "duration": 145,
    "start_time": "2024-02-22T15:09:23.209Z"
   },
   {
    "duration": 151,
    "start_time": "2024-02-22T15:09:39.830Z"
   },
   {
    "duration": 143,
    "start_time": "2024-02-22T15:09:52.039Z"
   },
   {
    "duration": 153,
    "start_time": "2024-02-22T15:10:01.387Z"
   },
   {
    "duration": 144,
    "start_time": "2024-02-22T15:10:14.956Z"
   },
   {
    "duration": 142,
    "start_time": "2024-02-22T15:10:24.306Z"
   },
   {
    "duration": 146,
    "start_time": "2024-02-22T15:10:34.065Z"
   },
   {
    "duration": 10945,
    "start_time": "2024-02-22T15:11:39.593Z"
   },
   {
    "duration": 10443,
    "start_time": "2024-02-22T15:12:49.822Z"
   },
   {
    "duration": 9961,
    "start_time": "2024-02-22T15:13:12.340Z"
   },
   {
    "duration": 10471,
    "start_time": "2024-02-22T15:14:59.010Z"
   },
   {
    "duration": 10452,
    "start_time": "2024-02-22T15:16:29.579Z"
   },
   {
    "duration": 1266,
    "start_time": "2024-02-22T15:20:03.091Z"
   },
   {
    "duration": 11,
    "start_time": "2024-02-22T15:20:04.358Z"
   },
   {
    "duration": 67,
    "start_time": "2024-02-22T15:20:04.371Z"
   },
   {
    "duration": 9,
    "start_time": "2024-02-22T15:20:04.439Z"
   },
   {
    "duration": 39,
    "start_time": "2024-02-22T15:20:04.450Z"
   },
   {
    "duration": 25,
    "start_time": "2024-02-22T15:20:04.491Z"
   },
   {
    "duration": 427,
    "start_time": "2024-02-22T15:20:04.518Z"
   },
   {
    "duration": 5,
    "start_time": "2024-02-22T15:20:04.946Z"
   },
   {
    "duration": 9,
    "start_time": "2024-02-22T15:20:04.952Z"
   },
   {
    "duration": 11,
    "start_time": "2024-02-22T15:20:04.963Z"
   },
   {
    "duration": 13,
    "start_time": "2024-02-22T15:20:04.975Z"
   },
   {
    "duration": 9,
    "start_time": "2024-02-22T15:20:04.989Z"
   },
   {
    "duration": 9,
    "start_time": "2024-02-22T15:20:04.999Z"
   },
   {
    "duration": 22,
    "start_time": "2024-02-22T15:20:05.011Z"
   },
   {
    "duration": 41,
    "start_time": "2024-02-22T15:20:05.035Z"
   },
   {
    "duration": 11,
    "start_time": "2024-02-22T15:20:05.077Z"
   },
   {
    "duration": 46,
    "start_time": "2024-02-22T15:20:05.089Z"
   },
   {
    "duration": 26,
    "start_time": "2024-02-22T15:20:05.136Z"
   },
   {
    "duration": 565,
    "start_time": "2024-02-22T15:20:05.164Z"
   },
   {
    "duration": 25,
    "start_time": "2024-02-22T15:20:05.730Z"
   },
   {
    "duration": 26,
    "start_time": "2024-02-22T15:20:05.757Z"
   },
   {
    "duration": 47,
    "start_time": "2024-02-22T15:20:05.785Z"
   },
   {
    "duration": 31,
    "start_time": "2024-02-22T15:20:05.834Z"
   },
   {
    "duration": 34,
    "start_time": "2024-02-22T15:20:05.868Z"
   },
   {
    "duration": 32,
    "start_time": "2024-02-22T15:20:05.904Z"
   },
   {
    "duration": 48,
    "start_time": "2024-02-22T15:20:05.937Z"
   },
   {
    "duration": 37,
    "start_time": "2024-02-22T15:20:05.987Z"
   },
   {
    "duration": 60,
    "start_time": "2024-02-22T15:20:06.025Z"
   },
   {
    "duration": 35,
    "start_time": "2024-02-22T15:20:06.087Z"
   },
   {
    "duration": 52,
    "start_time": "2024-02-22T15:20:06.123Z"
   },
   {
    "duration": 26,
    "start_time": "2024-02-22T15:20:06.177Z"
   },
   {
    "duration": 70,
    "start_time": "2024-02-22T15:20:06.205Z"
   },
   {
    "duration": 31,
    "start_time": "2024-02-22T15:20:06.277Z"
   },
   {
    "duration": 41,
    "start_time": "2024-02-22T15:20:06.309Z"
   },
   {
    "duration": 372,
    "start_time": "2024-02-22T15:20:06.351Z"
   },
   {
    "duration": 13,
    "start_time": "2024-02-22T15:20:06.725Z"
   },
   {
    "duration": 42,
    "start_time": "2024-02-22T15:20:06.739Z"
   },
   {
    "duration": 32,
    "start_time": "2024-02-22T15:20:06.783Z"
   },
   {
    "duration": 245,
    "start_time": "2024-02-22T15:20:06.817Z"
   },
   {
    "duration": 5,
    "start_time": "2024-02-22T15:20:07.063Z"
   },
   {
    "duration": 38,
    "start_time": "2024-02-22T15:20:07.073Z"
   },
   {
    "duration": 169,
    "start_time": "2024-02-22T15:20:07.113Z"
   },
   {
    "duration": 4,
    "start_time": "2024-02-22T15:20:07.283Z"
   },
   {
    "duration": 47,
    "start_time": "2024-02-22T15:20:07.288Z"
   },
   {
    "duration": 119,
    "start_time": "2024-02-22T15:20:07.336Z"
   },
   {
    "duration": 185,
    "start_time": "2024-02-22T15:20:07.457Z"
   },
   {
    "duration": 5,
    "start_time": "2024-02-22T15:20:07.643Z"
   },
   {
    "duration": 59,
    "start_time": "2024-02-22T15:20:07.649Z"
   },
   {
    "duration": 234,
    "start_time": "2024-02-22T15:20:07.709Z"
   },
   {
    "duration": 7,
    "start_time": "2024-02-22T15:20:07.945Z"
   },
   {
    "duration": 28,
    "start_time": "2024-02-22T15:20:07.953Z"
   },
   {
    "duration": 243,
    "start_time": "2024-02-22T15:20:07.982Z"
   },
   {
    "duration": 222,
    "start_time": "2024-02-22T15:20:08.227Z"
   },
   {
    "duration": 8,
    "start_time": "2024-02-22T15:20:08.450Z"
   },
   {
    "duration": 39,
    "start_time": "2024-02-22T15:20:08.459Z"
   },
   {
    "duration": 45,
    "start_time": "2024-02-22T15:20:08.499Z"
   },
   {
    "duration": 186,
    "start_time": "2024-02-22T15:20:08.545Z"
   },
   {
    "duration": 16,
    "start_time": "2024-02-22T15:20:08.734Z"
   },
   {
    "duration": 19,
    "start_time": "2024-02-22T15:20:08.752Z"
   },
   {
    "duration": 14,
    "start_time": "2024-02-22T15:20:08.772Z"
   },
   {
    "duration": 3,
    "start_time": "2024-02-22T15:20:08.787Z"
   },
   {
    "duration": 8,
    "start_time": "2024-02-22T15:20:08.791Z"
   },
   {
    "duration": 40,
    "start_time": "2024-02-22T15:20:08.800Z"
   },
   {
    "duration": 18,
    "start_time": "2024-02-22T15:20:08.843Z"
   },
   {
    "duration": 7,
    "start_time": "2024-02-22T15:20:08.862Z"
   },
   {
    "duration": 16,
    "start_time": "2024-02-22T15:20:08.871Z"
   },
   {
    "duration": 21,
    "start_time": "2024-02-22T15:20:08.888Z"
   },
   {
    "duration": 67,
    "start_time": "2024-02-22T15:20:08.910Z"
   },
   {
    "duration": 5,
    "start_time": "2024-02-22T15:20:08.979Z"
   },
   {
    "duration": 8,
    "start_time": "2024-02-22T15:20:08.985Z"
   },
   {
    "duration": 526,
    "start_time": "2024-02-22T15:20:08.995Z"
   },
   {
    "duration": 269,
    "start_time": "2024-02-22T15:20:09.523Z"
   },
   {
    "duration": 482,
    "start_time": "2024-02-22T15:20:09.793Z"
   },
   {
    "duration": 466,
    "start_time": "2024-02-22T15:20:10.277Z"
   },
   {
    "duration": 272,
    "start_time": "2024-02-22T15:20:10.745Z"
   },
   {
    "duration": 39,
    "start_time": "2024-02-22T15:20:11.018Z"
   },
   {
    "duration": 6,
    "start_time": "2024-02-22T15:20:11.058Z"
   },
   {
    "duration": 16,
    "start_time": "2024-02-22T15:20:11.066Z"
   },
   {
    "duration": 8,
    "start_time": "2024-02-22T15:20:11.084Z"
   },
   {
    "duration": 6,
    "start_time": "2024-02-22T15:20:11.094Z"
   },
   {
    "duration": 910,
    "start_time": "2024-02-22T15:20:11.133Z"
   },
   {
    "duration": 5,
    "start_time": "2024-02-22T15:20:12.044Z"
   },
   {
    "duration": 12,
    "start_time": "2024-02-22T15:20:12.050Z"
   },
   {
    "duration": 13,
    "start_time": "2024-02-22T15:20:12.064Z"
   },
   {
    "duration": 7,
    "start_time": "2024-02-22T15:20:12.079Z"
   },
   {
    "duration": 2368,
    "start_time": "2024-02-22T22:09:44.523Z"
   },
   {
    "duration": 11,
    "start_time": "2024-02-22T22:09:46.893Z"
   },
   {
    "duration": 121,
    "start_time": "2024-02-22T22:09:46.905Z"
   },
   {
    "duration": 11,
    "start_time": "2024-02-22T22:09:47.028Z"
   },
   {
    "duration": 23,
    "start_time": "2024-02-22T22:09:47.040Z"
   },
   {
    "duration": 23,
    "start_time": "2024-02-22T22:09:47.067Z"
   },
   {
    "duration": 460,
    "start_time": "2024-02-22T22:09:47.092Z"
   },
   {
    "duration": 7,
    "start_time": "2024-02-22T22:09:47.554Z"
   },
   {
    "duration": 18,
    "start_time": "2024-02-22T22:09:47.564Z"
   },
   {
    "duration": 24,
    "start_time": "2024-02-22T22:09:47.589Z"
   },
   {
    "duration": 18,
    "start_time": "2024-02-22T22:09:47.615Z"
   },
   {
    "duration": 26,
    "start_time": "2024-02-22T22:09:47.635Z"
   },
   {
    "duration": 17,
    "start_time": "2024-02-22T22:09:47.663Z"
   },
   {
    "duration": 9,
    "start_time": "2024-02-22T22:09:47.681Z"
   },
   {
    "duration": 96,
    "start_time": "2024-02-22T22:09:47.691Z"
   },
   {
    "duration": 12,
    "start_time": "2024-02-22T22:09:47.788Z"
   },
   {
    "duration": 38,
    "start_time": "2024-02-22T22:09:47.801Z"
   },
   {
    "duration": 12,
    "start_time": "2024-02-22T22:09:47.840Z"
   },
   {
    "duration": 552,
    "start_time": "2024-02-22T22:09:47.853Z"
   },
   {
    "duration": 67,
    "start_time": "2024-02-22T22:09:48.407Z"
   },
   {
    "duration": 16,
    "start_time": "2024-02-22T22:09:48.477Z"
   },
   {
    "duration": 57,
    "start_time": "2024-02-22T22:09:48.494Z"
   },
   {
    "duration": 10,
    "start_time": "2024-02-22T22:09:48.553Z"
   },
   {
    "duration": 18,
    "start_time": "2024-02-22T22:09:48.564Z"
   },
   {
    "duration": 16,
    "start_time": "2024-02-22T22:09:48.583Z"
   },
   {
    "duration": 9,
    "start_time": "2024-02-22T22:09:48.600Z"
   },
   {
    "duration": 25,
    "start_time": "2024-02-22T22:09:48.610Z"
   },
   {
    "duration": 24,
    "start_time": "2024-02-22T22:09:48.640Z"
   },
   {
    "duration": 17,
    "start_time": "2024-02-22T22:09:48.669Z"
   },
   {
    "duration": 10,
    "start_time": "2024-02-22T22:09:48.688Z"
   },
   {
    "duration": 5,
    "start_time": "2024-02-22T22:09:48.700Z"
   },
   {
    "duration": 13,
    "start_time": "2024-02-22T22:09:48.708Z"
   },
   {
    "duration": 16,
    "start_time": "2024-02-22T22:09:48.723Z"
   },
   {
    "duration": 49,
    "start_time": "2024-02-22T22:09:48.741Z"
   },
   {
    "duration": 398,
    "start_time": "2024-02-22T22:09:48.792Z"
   },
   {
    "duration": 14,
    "start_time": "2024-02-22T22:09:49.192Z"
   },
   {
    "duration": 11,
    "start_time": "2024-02-22T22:09:49.207Z"
   },
   {
    "duration": 12,
    "start_time": "2024-02-22T22:09:49.220Z"
   },
   {
    "duration": 218,
    "start_time": "2024-02-22T22:09:49.234Z"
   },
   {
    "duration": 20,
    "start_time": "2024-02-22T22:09:49.453Z"
   },
   {
    "duration": 35,
    "start_time": "2024-02-22T22:09:49.475Z"
   },
   {
    "duration": 176,
    "start_time": "2024-02-22T22:09:49.511Z"
   },
   {
    "duration": 4,
    "start_time": "2024-02-22T22:09:49.688Z"
   },
   {
    "duration": 11,
    "start_time": "2024-02-22T22:09:49.694Z"
   },
   {
    "duration": 103,
    "start_time": "2024-02-22T22:09:49.707Z"
   },
   {
    "duration": 190,
    "start_time": "2024-02-22T22:09:49.811Z"
   },
   {
    "duration": 6,
    "start_time": "2024-02-22T22:09:50.002Z"
   },
   {
    "duration": 20,
    "start_time": "2024-02-22T22:09:50.009Z"
   },
   {
    "duration": 214,
    "start_time": "2024-02-22T22:09:50.031Z"
   },
   {
    "duration": 7,
    "start_time": "2024-02-22T22:09:50.246Z"
   },
   {
    "duration": 9,
    "start_time": "2024-02-22T22:09:50.265Z"
   },
   {
    "duration": 243,
    "start_time": "2024-02-22T22:09:50.284Z"
   },
   {
    "duration": 256,
    "start_time": "2024-02-22T22:09:50.529Z"
   },
   {
    "duration": 6,
    "start_time": "2024-02-22T22:09:50.787Z"
   },
   {
    "duration": 22,
    "start_time": "2024-02-22T22:09:50.795Z"
   },
   {
    "duration": 34,
    "start_time": "2024-02-22T22:09:50.818Z"
   },
   {
    "duration": 185,
    "start_time": "2024-02-22T22:09:50.854Z"
   },
   {
    "duration": 28,
    "start_time": "2024-02-22T22:09:51.041Z"
   },
   {
    "duration": 29,
    "start_time": "2024-02-22T22:09:51.076Z"
   },
   {
    "duration": 23,
    "start_time": "2024-02-22T22:09:51.106Z"
   },
   {
    "duration": 18,
    "start_time": "2024-02-22T22:09:51.131Z"
   },
   {
    "duration": 45,
    "start_time": "2024-02-22T22:09:51.150Z"
   },
   {
    "duration": 29,
    "start_time": "2024-02-22T22:09:51.196Z"
   },
   {
    "duration": 34,
    "start_time": "2024-02-22T22:09:51.227Z"
   },
   {
    "duration": 24,
    "start_time": "2024-02-22T22:09:51.263Z"
   },
   {
    "duration": 36,
    "start_time": "2024-02-22T22:09:51.289Z"
   },
   {
    "duration": 34,
    "start_time": "2024-02-22T22:09:51.327Z"
   },
   {
    "duration": 69,
    "start_time": "2024-02-22T22:09:51.362Z"
   },
   {
    "duration": 5,
    "start_time": "2024-02-22T22:09:51.433Z"
   },
   {
    "duration": 56,
    "start_time": "2024-02-22T22:09:51.440Z"
   },
   {
    "duration": 640,
    "start_time": "2024-02-22T22:09:51.497Z"
   },
   {
    "duration": 286,
    "start_time": "2024-02-22T22:09:52.138Z"
   },
   {
    "duration": 505,
    "start_time": "2024-02-22T22:09:52.426Z"
   },
   {
    "duration": 495,
    "start_time": "2024-02-22T22:09:52.932Z"
   },
   {
    "duration": 296,
    "start_time": "2024-02-22T22:09:53.428Z"
   },
   {
    "duration": 27,
    "start_time": "2024-02-22T22:09:53.726Z"
   },
   {
    "duration": 8,
    "start_time": "2024-02-22T22:09:53.768Z"
   },
   {
    "duration": 33,
    "start_time": "2024-02-22T22:09:53.778Z"
   },
   {
    "duration": 18,
    "start_time": "2024-02-22T22:09:53.812Z"
   },
   {
    "duration": 11,
    "start_time": "2024-02-22T22:09:53.832Z"
   },
   {
    "duration": 1017,
    "start_time": "2024-02-22T22:09:53.845Z"
   },
   {
    "duration": 18,
    "start_time": "2024-02-22T22:09:54.870Z"
   },
   {
    "duration": 50,
    "start_time": "2024-02-22T22:09:54.890Z"
   },
   {
    "duration": 36,
    "start_time": "2024-02-22T22:09:54.941Z"
   },
   {
    "duration": 27,
    "start_time": "2024-02-22T22:09:54.979Z"
   },
   {
    "duration": 12,
    "start_time": "2024-02-22T22:12:27.133Z"
   },
   {
    "duration": 14,
    "start_time": "2024-02-22T22:12:41.986Z"
   },
   {
    "duration": 9,
    "start_time": "2024-02-22T22:13:18.491Z"
   }
  ],
  "kernelspec": {
   "display_name": "practicum",
   "language": "python",
   "name": "python3"
  },
  "language_info": {
   "codemirror_mode": {
    "name": "ipython",
    "version": 3
   },
   "file_extension": ".py",
   "mimetype": "text/x-python",
   "name": "python",
   "nbconvert_exporter": "python",
   "pygments_lexer": "ipython3",
   "version": "3.9.21"
  },
  "toc": {
   "base_numbering": 1,
   "nav_menu": {},
   "number_sections": true,
   "sideBar": true,
   "skip_h1_title": true,
   "title_cell": "Table of Contents",
   "title_sidebar": "Проект: Статистический анализ данных",
   "toc_cell": false,
   "toc_position": {
    "height": "calc(100% - 180px)",
    "left": "10px",
    "top": "150px",
    "width": "358.182px"
   },
   "toc_section_display": true,
   "toc_window_display": true
  }
 },
 "nbformat": 4,
 "nbformat_minor": 5
}
